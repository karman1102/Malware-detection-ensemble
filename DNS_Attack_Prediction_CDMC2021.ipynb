{
  "cells": [
    {
      "cell_type": "markdown",
      "metadata": {
        "id": "7x5a1y7E9org"
      },
      "source": [
        "# Importing the required modules"
      ]
    },
    {
      "cell_type": "code",
      "execution_count": null,
      "metadata": {
        "colab": {
          "base_uri": "https://localhost:8080/"
        },
        "id": "p71c73Bkl8IK",
        "outputId": "24e2be75-9824-45c8-8c50-d1ab01f9eaba"
      },
      "outputs": [
        {
          "output_type": "stream",
          "name": "stdout",
          "text": [
            "Looking in indexes: https://pypi.org/simple, https://us-python.pkg.dev/colab-wheels/public/simple/\n",
            "Requirement already satisfied: pyod in /usr/local/lib/python3.7/dist-packages (1.0.6)\n",
            "Requirement already satisfied: matplotlib in /usr/local/lib/python3.7/dist-packages (from pyod) (3.2.2)\n",
            "Requirement already satisfied: six in /usr/local/lib/python3.7/dist-packages (from pyod) (1.15.0)\n",
            "Requirement already satisfied: statsmodels in /usr/local/lib/python3.7/dist-packages (from pyod) (0.12.2)\n",
            "Requirement already satisfied: numpy>=1.19 in /usr/local/lib/python3.7/dist-packages (from pyod) (1.21.6)\n",
            "Requirement already satisfied: scikit-learn>=0.20.0 in /usr/local/lib/python3.7/dist-packages (from pyod) (1.0.2)\n",
            "Requirement already satisfied: joblib in /usr/local/lib/python3.7/dist-packages (from pyod) (1.2.0)\n",
            "Requirement already satisfied: numba>=0.51 in /usr/local/lib/python3.7/dist-packages (from pyod) (0.56.4)\n",
            "Requirement already satisfied: scipy>=1.5.1 in /usr/local/lib/python3.7/dist-packages (from pyod) (1.7.3)\n",
            "Requirement already satisfied: importlib-metadata in /usr/local/lib/python3.7/dist-packages (from numba>=0.51->pyod) (4.13.0)\n",
            "Requirement already satisfied: llvmlite<0.40,>=0.39.0dev0 in /usr/local/lib/python3.7/dist-packages (from numba>=0.51->pyod) (0.39.1)\n",
            "Requirement already satisfied: setuptools in /usr/local/lib/python3.7/dist-packages (from numba>=0.51->pyod) (57.4.0)\n",
            "Requirement already satisfied: threadpoolctl>=2.0.0 in /usr/local/lib/python3.7/dist-packages (from scikit-learn>=0.20.0->pyod) (3.1.0)\n",
            "Requirement already satisfied: zipp>=0.5 in /usr/local/lib/python3.7/dist-packages (from importlib-metadata->numba>=0.51->pyod) (3.10.0)\n",
            "Requirement already satisfied: typing-extensions>=3.6.4 in /usr/local/lib/python3.7/dist-packages (from importlib-metadata->numba>=0.51->pyod) (4.1.1)\n",
            "Requirement already satisfied: cycler>=0.10 in /usr/local/lib/python3.7/dist-packages (from matplotlib->pyod) (0.11.0)\n",
            "Requirement already satisfied: kiwisolver>=1.0.1 in /usr/local/lib/python3.7/dist-packages (from matplotlib->pyod) (1.4.4)\n",
            "Requirement already satisfied: pyparsing!=2.0.4,!=2.1.2,!=2.1.6,>=2.0.1 in /usr/local/lib/python3.7/dist-packages (from matplotlib->pyod) (3.0.9)\n",
            "Requirement already satisfied: python-dateutil>=2.1 in /usr/local/lib/python3.7/dist-packages (from matplotlib->pyod) (2.8.2)\n",
            "Requirement already satisfied: pandas>=0.21 in /usr/local/lib/python3.7/dist-packages (from statsmodels->pyod) (1.3.5)\n",
            "Requirement already satisfied: patsy>=0.5 in /usr/local/lib/python3.7/dist-packages (from statsmodels->pyod) (0.5.3)\n",
            "Requirement already satisfied: pytz>=2017.3 in /usr/local/lib/python3.7/dist-packages (from pandas>=0.21->statsmodels->pyod) (2022.6)\n",
            "Looking in indexes: https://pypi.org/simple, https://us-python.pkg.dev/colab-wheels/public/simple/\n",
            "Requirement already satisfied: imbalanced-learn in /usr/local/lib/python3.7/dist-packages (0.9.0)\n",
            "Collecting imbalanced-learn\n",
            "  Using cached imbalanced_learn-0.9.1-py3-none-any.whl (199 kB)\n",
            "Requirement already satisfied: numpy>=1.17.3 in /usr/local/lib/python3.7/dist-packages (from imbalanced-learn) (1.21.6)\n",
            "Requirement already satisfied: joblib>=1.0.0 in /usr/local/lib/python3.7/dist-packages (from imbalanced-learn) (1.2.0)\n",
            "Requirement already satisfied: threadpoolctl>=2.0.0 in /usr/local/lib/python3.7/dist-packages (from imbalanced-learn) (3.1.0)\n",
            "Requirement already satisfied: scipy>=1.3.2 in /usr/local/lib/python3.7/dist-packages (from imbalanced-learn) (1.7.3)\n",
            "Requirement already satisfied: scikit-learn>=1.0.1 in /usr/local/lib/python3.7/dist-packages (from imbalanced-learn) (1.0.2)\n"
          ]
        }
      ],
      "source": [
        "!pip install pyod\n",
        "!pip install -U imbalanced-learn"
      ]
    },
    {
      "cell_type": "code",
      "execution_count": 1,
      "metadata": {
        "id": "zkcNkNGo9hhb"
      },
      "outputs": [],
      "source": [
        "import pandas as pd\n",
        "import numpy as np\n",
        "from sklearn.ensemble import RandomForestClassifier, VotingClassifier\n",
        "from sklearn.naive_bayes import GaussianNB\n",
        "from sklearn.model_selection import train_test_split\n",
        "import matplotlib.pyplot as plt\n",
        "from sklearn.decomposition import PCA\n",
        "from imblearn.over_sampling import RandomOverSampler, SMOTE\n",
        "from sklearn.model_selection import train_test_split\n",
        "import seaborn as sns\n",
        "from sklearn.manifold import TSNE\n",
        "from sklearn.tree import DecisionTreeClassifier\n",
        "from sklearn.svm import SVC\n",
        "from sklearn.metrics import cohen_kappa_score\n"
      ]
    },
    {
      "cell_type": "markdown",
      "metadata": {
        "id": "WT9MuOSo9vDS"
      },
      "source": [
        "# Reading the data"
      ]
    },
    {
      "cell_type": "markdown",
      "metadata": {
        "id": "RPENC8vE_CLm"
      },
      "source": [
        "## Train Data"
      ]
    },
    {
      "cell_type": "code",
      "source": [
        "from google.colab import drive\n",
        "drive.mount('/content/drive')"
      ],
      "metadata": {
        "colab": {
          "base_uri": "https://localhost:8080/"
        },
        "id": "-50ZuqFsg1Gk",
        "outputId": "0edae8ec-4b3f-459b-ff5c-9e057a82a6da"
      },
      "execution_count": 2,
      "outputs": [
        {
          "output_type": "stream",
          "name": "stdout",
          "text": [
            "Mounted at /content/drive\n"
          ]
        }
      ]
    },
    {
      "cell_type": "code",
      "source": [
        "!unzip '/content/drive/MyDrive/Courses/CS PhD/Courses/AI-for Cybersecurity App./AI Project/Datasets/Training.zip'"
      ],
      "metadata": {
        "colab": {
          "base_uri": "https://localhost:8080/"
        },
        "id": "nGUx213ThOik",
        "outputId": "16303f49-a1b0-4dd5-b34a-e7bb1c52bf05"
      },
      "execution_count": 3,
      "outputs": [
        {
          "output_type": "stream",
          "name": "stdout",
          "text": [
            "Archive:  /content/drive/MyDrive/Courses/CS PhD/Courses/AI-for Cybersecurity App./AI Project/Datasets/Training.zip\n",
            "  inflating: Training.tsv            \n"
          ]
        }
      ]
    },
    {
      "cell_type": "code",
      "execution_count": 55,
      "metadata": {
        "id": "Gqvg9Uod_p4z"
      },
      "outputs": [],
      "source": [
        "train = pd.read_csv('Training.tsv', sep='\\t', index_col=0) # string version of the word vector"
      ]
    },
    {
      "cell_type": "code",
      "source": [
        "train_df = train.copy() # This will contain the numpy arrays of word vector"
      ],
      "metadata": {
        "id": "E9dr83h6trfr"
      },
      "execution_count": 54,
      "outputs": []
    },
    {
      "cell_type": "code",
      "execution_count": null,
      "metadata": {
        "id": "wzKf5dCU_p4z",
        "colab": {
          "base_uri": "https://localhost:8080/",
          "height": 206
        },
        "outputId": "5348464b-06d6-426d-fa2d-9c6c18c72f88"
      },
      "outputs": [
        {
          "output_type": "execute_result",
          "data": {
            "text/plain": [
              "   category                                        word_vector  label\n",
              "0        24  [[-0.507, -0.49518, 0.46885, 0.54524, -0.11552...    2.0\n",
              "1        13  [[0.19911, -0.46156, 0.19674, -1.3298, 0.51805...    1.0\n",
              "2        24  [[-0.7403, -0.78746, 0.47018, 0.43474, 0.05842...    1.0\n",
              "3        21  [[-0.44257, -0.54624, 0.25403, 0.80731, 1.026,...    1.0\n",
              "4        13  [[0.19911, -0.46156, 0.19674, -1.3298, 0.51805...    2.0"
            ],
            "text/html": [
              "\n",
              "  <div id=\"df-74c107d9-b7bd-4824-af81-a89bac29da45\">\n",
              "    <div class=\"colab-df-container\">\n",
              "      <div>\n",
              "<style scoped>\n",
              "    .dataframe tbody tr th:only-of-type {\n",
              "        vertical-align: middle;\n",
              "    }\n",
              "\n",
              "    .dataframe tbody tr th {\n",
              "        vertical-align: top;\n",
              "    }\n",
              "\n",
              "    .dataframe thead th {\n",
              "        text-align: right;\n",
              "    }\n",
              "</style>\n",
              "<table border=\"1\" class=\"dataframe\">\n",
              "  <thead>\n",
              "    <tr style=\"text-align: right;\">\n",
              "      <th></th>\n",
              "      <th>category</th>\n",
              "      <th>word_vector</th>\n",
              "      <th>label</th>\n",
              "    </tr>\n",
              "  </thead>\n",
              "  <tbody>\n",
              "    <tr>\n",
              "      <th>0</th>\n",
              "      <td>24</td>\n",
              "      <td>[[-0.507, -0.49518, 0.46885, 0.54524, -0.11552...</td>\n",
              "      <td>2.0</td>\n",
              "    </tr>\n",
              "    <tr>\n",
              "      <th>1</th>\n",
              "      <td>13</td>\n",
              "      <td>[[0.19911, -0.46156, 0.19674, -1.3298, 0.51805...</td>\n",
              "      <td>1.0</td>\n",
              "    </tr>\n",
              "    <tr>\n",
              "      <th>2</th>\n",
              "      <td>24</td>\n",
              "      <td>[[-0.7403, -0.78746, 0.47018, 0.43474, 0.05842...</td>\n",
              "      <td>1.0</td>\n",
              "    </tr>\n",
              "    <tr>\n",
              "      <th>3</th>\n",
              "      <td>21</td>\n",
              "      <td>[[-0.44257, -0.54624, 0.25403, 0.80731, 1.026,...</td>\n",
              "      <td>1.0</td>\n",
              "    </tr>\n",
              "    <tr>\n",
              "      <th>4</th>\n",
              "      <td>13</td>\n",
              "      <td>[[0.19911, -0.46156, 0.19674, -1.3298, 0.51805...</td>\n",
              "      <td>2.0</td>\n",
              "    </tr>\n",
              "  </tbody>\n",
              "</table>\n",
              "</div>\n",
              "      <button class=\"colab-df-convert\" onclick=\"convertToInteractive('df-74c107d9-b7bd-4824-af81-a89bac29da45')\"\n",
              "              title=\"Convert this dataframe to an interactive table.\"\n",
              "              style=\"display:none;\">\n",
              "        \n",
              "  <svg xmlns=\"http://www.w3.org/2000/svg\" height=\"24px\"viewBox=\"0 0 24 24\"\n",
              "       width=\"24px\">\n",
              "    <path d=\"M0 0h24v24H0V0z\" fill=\"none\"/>\n",
              "    <path d=\"M18.56 5.44l.94 2.06.94-2.06 2.06-.94-2.06-.94-.94-2.06-.94 2.06-2.06.94zm-11 1L8.5 8.5l.94-2.06 2.06-.94-2.06-.94L8.5 2.5l-.94 2.06-2.06.94zm10 10l.94 2.06.94-2.06 2.06-.94-2.06-.94-.94-2.06-.94 2.06-2.06.94z\"/><path d=\"M17.41 7.96l-1.37-1.37c-.4-.4-.92-.59-1.43-.59-.52 0-1.04.2-1.43.59L10.3 9.45l-7.72 7.72c-.78.78-.78 2.05 0 2.83L4 21.41c.39.39.9.59 1.41.59.51 0 1.02-.2 1.41-.59l7.78-7.78 2.81-2.81c.8-.78.8-2.07 0-2.86zM5.41 20L4 18.59l7.72-7.72 1.47 1.35L5.41 20z\"/>\n",
              "  </svg>\n",
              "      </button>\n",
              "      \n",
              "  <style>\n",
              "    .colab-df-container {\n",
              "      display:flex;\n",
              "      flex-wrap:wrap;\n",
              "      gap: 12px;\n",
              "    }\n",
              "\n",
              "    .colab-df-convert {\n",
              "      background-color: #E8F0FE;\n",
              "      border: none;\n",
              "      border-radius: 50%;\n",
              "      cursor: pointer;\n",
              "      display: none;\n",
              "      fill: #1967D2;\n",
              "      height: 32px;\n",
              "      padding: 0 0 0 0;\n",
              "      width: 32px;\n",
              "    }\n",
              "\n",
              "    .colab-df-convert:hover {\n",
              "      background-color: #E2EBFA;\n",
              "      box-shadow: 0px 1px 2px rgba(60, 64, 67, 0.3), 0px 1px 3px 1px rgba(60, 64, 67, 0.15);\n",
              "      fill: #174EA6;\n",
              "    }\n",
              "\n",
              "    [theme=dark] .colab-df-convert {\n",
              "      background-color: #3B4455;\n",
              "      fill: #D2E3FC;\n",
              "    }\n",
              "\n",
              "    [theme=dark] .colab-df-convert:hover {\n",
              "      background-color: #434B5C;\n",
              "      box-shadow: 0px 1px 3px 1px rgba(0, 0, 0, 0.15);\n",
              "      filter: drop-shadow(0px 1px 2px rgba(0, 0, 0, 0.3));\n",
              "      fill: #FFFFFF;\n",
              "    }\n",
              "  </style>\n",
              "\n",
              "      <script>\n",
              "        const buttonEl =\n",
              "          document.querySelector('#df-74c107d9-b7bd-4824-af81-a89bac29da45 button.colab-df-convert');\n",
              "        buttonEl.style.display =\n",
              "          google.colab.kernel.accessAllowed ? 'block' : 'none';\n",
              "\n",
              "        async function convertToInteractive(key) {\n",
              "          const element = document.querySelector('#df-74c107d9-b7bd-4824-af81-a89bac29da45');\n",
              "          const dataTable =\n",
              "            await google.colab.kernel.invokeFunction('convertToInteractive',\n",
              "                                                     [key], {});\n",
              "          if (!dataTable) return;\n",
              "\n",
              "          const docLinkHtml = 'Like what you see? Visit the ' +\n",
              "            '<a target=\"_blank\" href=https://colab.research.google.com/notebooks/data_table.ipynb>data table notebook</a>'\n",
              "            + ' to learn more about interactive tables.';\n",
              "          element.innerHTML = '';\n",
              "          dataTable['output_type'] = 'display_data';\n",
              "          await google.colab.output.renderOutput(dataTable, element);\n",
              "          const docLink = document.createElement('div');\n",
              "          docLink.innerHTML = docLinkHtml;\n",
              "          element.appendChild(docLink);\n",
              "        }\n",
              "      </script>\n",
              "    </div>\n",
              "  </div>\n",
              "  "
            ]
          },
          "metadata": {},
          "execution_count": 7
        }
      ],
      "source": [
        "train_df.head()"
      ]
    },
    {
      "cell_type": "markdown",
      "metadata": {
        "id": "Sr_unzA4_ALx"
      },
      "source": [
        "## Test Data"
      ]
    },
    {
      "cell_type": "code",
      "source": [
        "!unzip '/content/drive/MyDrive/Courses/CS PhD/Courses/AI-for Cybersecurity App./AI Project/Datasets/Testing.zip'"
      ],
      "metadata": {
        "colab": {
          "base_uri": "https://localhost:8080/"
        },
        "id": "69GZgjfyhzxh",
        "outputId": "ff9e15a4-0c18-4e4d-ed98-466fc91e4357"
      },
      "execution_count": 6,
      "outputs": [
        {
          "output_type": "stream",
          "name": "stdout",
          "text": [
            "Archive:  /content/drive/MyDrive/Courses/CS PhD/Courses/AI-for Cybersecurity App./AI Project/Datasets/Testing.zip\n",
            "  inflating: Testing.tsv             \n"
          ]
        }
      ]
    },
    {
      "cell_type": "code",
      "execution_count": 107,
      "metadata": {
        "id": "28-4ADnQ_KYC"
      },
      "outputs": [],
      "source": [
        "test_df = pd.read_csv('/content/Testing.tsv', sep='\\t', index_col=0)"
      ]
    },
    {
      "cell_type": "markdown",
      "source": [
        "1. Kappa score on test set for each model\n",
        "-> basic metrics on train and kappa on test"
      ],
      "metadata": {
        "id": "1nRKhOQO2h8_"
      }
    },
    {
      "cell_type": "code",
      "execution_count": null,
      "metadata": {
        "id": "uS4Xl9nO_Owv",
        "colab": {
          "base_uri": "https://localhost:8080/",
          "height": 206
        },
        "outputId": "e5f067ba-fd54-4558-af0f-bc3077e99003"
      },
      "outputs": [
        {
          "output_type": "execute_result",
          "data": {
            "text/plain": [
              "   category                                        word_vector\n",
              "0        22  [[0.21287, 0.01892, 0.96733, 1.1927, 0.65862, ...\n",
              "1        13  [[0.19911, -0.46156, 0.19674, -1.3298, 0.51805...\n",
              "2        24  [[-0.7403, -0.78746, 0.47018, 0.43474, 0.05842...\n",
              "3        18  [[-0.40747, -0.23971, -0.13692, -0.26816, -0.1...\n",
              "4         5  [[-0.061445, 0.28243, 0.27775, 0.12486, 0.3929..."
            ],
            "text/html": [
              "\n",
              "  <div id=\"df-28f5d863-3d6e-4867-a3c9-94126aced966\">\n",
              "    <div class=\"colab-df-container\">\n",
              "      <div>\n",
              "<style scoped>\n",
              "    .dataframe tbody tr th:only-of-type {\n",
              "        vertical-align: middle;\n",
              "    }\n",
              "\n",
              "    .dataframe tbody tr th {\n",
              "        vertical-align: top;\n",
              "    }\n",
              "\n",
              "    .dataframe thead th {\n",
              "        text-align: right;\n",
              "    }\n",
              "</style>\n",
              "<table border=\"1\" class=\"dataframe\">\n",
              "  <thead>\n",
              "    <tr style=\"text-align: right;\">\n",
              "      <th></th>\n",
              "      <th>category</th>\n",
              "      <th>word_vector</th>\n",
              "    </tr>\n",
              "  </thead>\n",
              "  <tbody>\n",
              "    <tr>\n",
              "      <th>0</th>\n",
              "      <td>22</td>\n",
              "      <td>[[0.21287, 0.01892, 0.96733, 1.1927, 0.65862, ...</td>\n",
              "    </tr>\n",
              "    <tr>\n",
              "      <th>1</th>\n",
              "      <td>13</td>\n",
              "      <td>[[0.19911, -0.46156, 0.19674, -1.3298, 0.51805...</td>\n",
              "    </tr>\n",
              "    <tr>\n",
              "      <th>2</th>\n",
              "      <td>24</td>\n",
              "      <td>[[-0.7403, -0.78746, 0.47018, 0.43474, 0.05842...</td>\n",
              "    </tr>\n",
              "    <tr>\n",
              "      <th>3</th>\n",
              "      <td>18</td>\n",
              "      <td>[[-0.40747, -0.23971, -0.13692, -0.26816, -0.1...</td>\n",
              "    </tr>\n",
              "    <tr>\n",
              "      <th>4</th>\n",
              "      <td>5</td>\n",
              "      <td>[[-0.061445, 0.28243, 0.27775, 0.12486, 0.3929...</td>\n",
              "    </tr>\n",
              "  </tbody>\n",
              "</table>\n",
              "</div>\n",
              "      <button class=\"colab-df-convert\" onclick=\"convertToInteractive('df-28f5d863-3d6e-4867-a3c9-94126aced966')\"\n",
              "              title=\"Convert this dataframe to an interactive table.\"\n",
              "              style=\"display:none;\">\n",
              "        \n",
              "  <svg xmlns=\"http://www.w3.org/2000/svg\" height=\"24px\"viewBox=\"0 0 24 24\"\n",
              "       width=\"24px\">\n",
              "    <path d=\"M0 0h24v24H0V0z\" fill=\"none\"/>\n",
              "    <path d=\"M18.56 5.44l.94 2.06.94-2.06 2.06-.94-2.06-.94-.94-2.06-.94 2.06-2.06.94zm-11 1L8.5 8.5l.94-2.06 2.06-.94-2.06-.94L8.5 2.5l-.94 2.06-2.06.94zm10 10l.94 2.06.94-2.06 2.06-.94-2.06-.94-.94-2.06-.94 2.06-2.06.94z\"/><path d=\"M17.41 7.96l-1.37-1.37c-.4-.4-.92-.59-1.43-.59-.52 0-1.04.2-1.43.59L10.3 9.45l-7.72 7.72c-.78.78-.78 2.05 0 2.83L4 21.41c.39.39.9.59 1.41.59.51 0 1.02-.2 1.41-.59l7.78-7.78 2.81-2.81c.8-.78.8-2.07 0-2.86zM5.41 20L4 18.59l7.72-7.72 1.47 1.35L5.41 20z\"/>\n",
              "  </svg>\n",
              "      </button>\n",
              "      \n",
              "  <style>\n",
              "    .colab-df-container {\n",
              "      display:flex;\n",
              "      flex-wrap:wrap;\n",
              "      gap: 12px;\n",
              "    }\n",
              "\n",
              "    .colab-df-convert {\n",
              "      background-color: #E8F0FE;\n",
              "      border: none;\n",
              "      border-radius: 50%;\n",
              "      cursor: pointer;\n",
              "      display: none;\n",
              "      fill: #1967D2;\n",
              "      height: 32px;\n",
              "      padding: 0 0 0 0;\n",
              "      width: 32px;\n",
              "    }\n",
              "\n",
              "    .colab-df-convert:hover {\n",
              "      background-color: #E2EBFA;\n",
              "      box-shadow: 0px 1px 2px rgba(60, 64, 67, 0.3), 0px 1px 3px 1px rgba(60, 64, 67, 0.15);\n",
              "      fill: #174EA6;\n",
              "    }\n",
              "\n",
              "    [theme=dark] .colab-df-convert {\n",
              "      background-color: #3B4455;\n",
              "      fill: #D2E3FC;\n",
              "    }\n",
              "\n",
              "    [theme=dark] .colab-df-convert:hover {\n",
              "      background-color: #434B5C;\n",
              "      box-shadow: 0px 1px 3px 1px rgba(0, 0, 0, 0.15);\n",
              "      filter: drop-shadow(0px 1px 2px rgba(0, 0, 0, 0.3));\n",
              "      fill: #FFFFFF;\n",
              "    }\n",
              "  </style>\n",
              "\n",
              "      <script>\n",
              "        const buttonEl =\n",
              "          document.querySelector('#df-28f5d863-3d6e-4867-a3c9-94126aced966 button.colab-df-convert');\n",
              "        buttonEl.style.display =\n",
              "          google.colab.kernel.accessAllowed ? 'block' : 'none';\n",
              "\n",
              "        async function convertToInteractive(key) {\n",
              "          const element = document.querySelector('#df-28f5d863-3d6e-4867-a3c9-94126aced966');\n",
              "          const dataTable =\n",
              "            await google.colab.kernel.invokeFunction('convertToInteractive',\n",
              "                                                     [key], {});\n",
              "          if (!dataTable) return;\n",
              "\n",
              "          const docLinkHtml = 'Like what you see? Visit the ' +\n",
              "            '<a target=\"_blank\" href=https://colab.research.google.com/notebooks/data_table.ipynb>data table notebook</a>'\n",
              "            + ' to learn more about interactive tables.';\n",
              "          element.innerHTML = '';\n",
              "          dataTable['output_type'] = 'display_data';\n",
              "          await google.colab.output.renderOutput(dataTable, element);\n",
              "          const docLink = document.createElement('div');\n",
              "          docLink.innerHTML = docLinkHtml;\n",
              "          element.appendChild(docLink);\n",
              "        }\n",
              "      </script>\n",
              "    </div>\n",
              "  </div>\n",
              "  "
            ]
          },
          "metadata": {},
          "execution_count": 10
        }
      ],
      "source": [
        "test_df.head()"
      ]
    },
    {
      "cell_type": "markdown",
      "metadata": {
        "id": "3kUpmUl4fsvC"
      },
      "source": [
        "# Data Analysis"
      ]
    },
    {
      "cell_type": "code",
      "execution_count": null,
      "metadata": {
        "id": "IoKSS4IFDgRk",
        "colab": {
          "base_uri": "https://localhost:8080/"
        },
        "outputId": "e8b4f947-e6a2-45fd-b8b1-751bc24d13a5"
      },
      "outputs": [
        {
          "output_type": "execute_result",
          "data": {
            "text/plain": [
              "13    45902\n",
              "24    24434\n",
              "6     15346\n",
              "7      6202\n",
              "21     5016\n",
              "1      4978\n",
              "19     4766\n",
              "16     3666\n",
              "18     2894\n",
              "17     1744\n",
              "0      1250\n",
              "20     1246\n",
              "9      1146\n",
              "22      920\n",
              "4       730\n",
              "23      608\n",
              "3       608\n",
              "11      480\n",
              "8       368\n",
              "15      306\n",
              "14      218\n",
              "10      154\n",
              "5        34\n",
              "2        18\n",
              "12        6\n",
              "Name: category, dtype: int64"
            ]
          },
          "metadata": {},
          "execution_count": 16
        }
      ],
      "source": [
        "train_df['category'].value_counts()"
      ]
    },
    {
      "cell_type": "markdown",
      "source": [
        "This piece of code depicts a clear balance in our dataset, hence we will now evaluate if there are any null values that might affect this analysis"
      ],
      "metadata": {
        "id": "Gy_J1KGWmLQd"
      }
    },
    {
      "cell_type": "code",
      "execution_count": null,
      "metadata": {
        "id": "gBConnzXDwHe",
        "colab": {
          "base_uri": "https://localhost:8080/",
          "height": 357
        },
        "outputId": "cc5f750c-a885-42d9-cfaf-f4cd12bb2316"
      },
      "outputs": [
        {
          "output_type": "stream",
          "name": "stdout",
          "text": [
            "[2. 1.]\n",
            "Percentage of attacks in dataset (1s) =  50.0 %\n",
            "Percentage of attacks in dataset (0s) =  50.0 %\n",
            "\n",
            "\n"
          ]
        },
        {
          "output_type": "display_data",
          "data": {
            "text/plain": [
              "<Figure size 432x288 with 1 Axes>"
            ],
            "image/png": "[encoded data removed]"
          },
          "metadata": {}
        }
      ],
      "source": [
        "# train_df['label'].value_counts()\n",
        "print(train_df['label'].unique())\n",
        "zero_count = train_df['label'].value_counts()[1.0]\n",
        "ones_count = train_df['label'].value_counts()[2.0]\n",
        "print(\"Percentage of attacks in dataset (1s) = \" , ones_count/len(train_df) * 100, \"%\")\n",
        "print(\"Percentage of attacks in dataset (0s) = \" , zero_count/len(train_df) * 100, \"%\")\n",
        "\n",
        "print('\\n')\n",
        "\n",
        "labels = '0', '1'\n",
        "sizes = [zero_count/len(train_df) * 100, ones_count/len(train_df) * 100]\n",
        "\n",
        "fig1, ax1 = plt.subplots()\n",
        "plt.title('Pie Chart describing data imbalance', fontsize=18)\n",
        "ax1.pie(sizes, labels=labels, autopct='%1.1f%%',\n",
        "        shadow=True, startangle=90)\n",
        "ax1.axis('equal') \n",
        "\n",
        "plt.show()"
      ]
    },
    {
      "cell_type": "markdown",
      "source": [
        "There are no null values, our previous observation holds true"
      ],
      "metadata": {
        "id": "8mxxF0MymXbU"
      }
    },
    {
      "cell_type": "code",
      "execution_count": null,
      "metadata": {
        "id": "mK9qLtKtD562",
        "colab": {
          "base_uri": "https://localhost:8080/"
        },
        "outputId": "7d303d3f-0b0a-4ecf-d335-6860fe92261d"
      },
      "outputs": [
        {
          "output_type": "execute_result",
          "data": {
            "text/plain": [
              "category       0\n",
              "word_vector    0\n",
              "label          0\n",
              "dtype: int64"
            ]
          },
          "metadata": {},
          "execution_count": 18
        }
      ],
      "source": [
        "train_df.isna().sum()"
      ]
    },
    {
      "cell_type": "markdown",
      "source": [
        "We observe that the word vectors are arrays Nx100 dimension, hence we will now try to flatten the array by computing the mean"
      ],
      "metadata": {
        "id": "FijaB5_9mfK3"
      }
    },
    {
      "cell_type": "code",
      "execution_count": null,
      "metadata": {
        "id": "1S004OAdD9kM",
        "colab": {
          "base_uri": "https://localhost:8080/",
          "height": 160
        },
        "outputId": "6e5180da-0fa7-442c-dbfd-967161da167e"
      },
      "outputs": [
        {
          "output_type": "execute_result",
          "data": {
            "text/plain": [
              "'[[-0.507, -0.49518, 0.46885, 0.54524, -0.11552, 0.2011, -1.2176, -0.55043, -0.23156, -0.73012, 0.076796, -0.0076557, 0.48287, -0.58794, -0.23533, -0.027945, 0.11532, 1.4314, -0.1661, -0.63121, 0.39653, 0.085811, -0.49551, 0.3343, 0.59546, 0.52539, 0.001811, 0.76602, 0.38397, -0.13461, 0.049899, -0.61139, 1.2131, 0.18614, 1.167, 0.35961, 1.3196, -0.82462, 1.6268, -0.49592, 1.0267, -1.3948, 0.056058, -0.61447, 0.19587, 0.97458, -0.037163, -0.54479, 0.081985, 0.048466, 0.13609, -0.23278, -0.17423, -1.54, -1.5503, 0.78742, 0.47568, -0.5873, 0.76837, -0.17776, -0.25306, -0.37216, -0.12001, -0.44639, 0.61284, -1.7839, 0.6673, 0.34053, -0.3449, -1.6066, 0.39333, -0.38133, 0.079142, 0.72345, 1.0916, -1.1843, 0.21262, 0.29126, -0.10723, -1.0812, 0.45819, 0.81771, 0.1528, 0.65375, 0.39089, -0.15801, 0.38404, 0.1913, 0.36868, 0.54634, 0.16972, -0.90728, -0.41876, -0.30595, -0.19465, 0.74824, 0.19289, 0.20424, -0.78606, -0.57961], [-0.32751, -1.2862, 0.65581, 0.34081, 0.12088, 0.22828, 0.24592, -0.13239, -0.18427, -0.44627, 0.0037742, 0.26333, 0.33714, -0.42545, -0.84055, 0.28649, -0.23371, 1.3514, -0.43711, -0.20697, 1.0626, 0.053355, -0.75135, -0.40071, 1.39, 1.23, -0.55733, 0.055502, 1.1744, 0.34517, 0.30159, -0.27164, 1.4317, 0.19337, 1.1995, 0.32752, -0.22585, -1.0658, 1.4407, -0.7739, 0.76103, -0.49975, -0.40048, 0.49292, -0.41832, 0.4527, 0.87415, -0.066721, -0.33941, 0.35843, 0.5264, 0.18031, 0.70183, -1.4764, -0.88003, 0.97775, -0.096535, -0.95935, -0.10096, -0.19376, 0.25674, -0.17129, -0.68437, 0.1068, 0.31941, -1.3816, 0.55839, 0.40513, -0.63708, -0.59125, 0.59768, -0.33519, -0.22628, 0.60921, 0.71576, -1.0625, -0.37102, -0.32136, -0.46163, -0.74358, 0.81269, 1.1615, 0.55392, 0.75819, -0.24905, 0.031575, 1.0357, 0.61181, 1.0467, -0.049478, 0.24845, -0.54896, -0.49463, -0.007233, -0.19655, 1.4985, -0.50622, 0.57736, 0.096148, -0.50627], [-0.49549, -0.78616, 0.86995, 0.46354, 0.45119, 0.011646, -0.26029, 0.23944, 0.39125, -0.03233, 0.46275, 0.19721, -0.26462, -1.0705, -1.0204, -0.025572, 0.17666, 0.71526, -0.3125, -0.11643, 1.2764, -0.2051, -0.79558, -0.32376, -0.09177, 1.1145, 0.58524, -0.18477, 0.82193, -0.86911, 0.5951, -0.31011, 0.84413, 0.80335, 0.74645, 0.43412, -0.046515, 0.14703, 1.1901, -0.40117, 0.5681, -0.81953, -0.30876, -1.0441, -0.55083, 0.17432, 1.724, -0.214, 0.49418, 0.95559, 0.42571, 0.096453, -0.103, -0.83877, -0.56717, 0.074008, -0.37542, -0.87548, 0.089894, 0.095186, -0.65281, -0.46561, -0.41529, 0.36386, 0.65981, -1.5113, 0.70953, 0.31061, -0.31942, 0.034562, 0.98121, 0.074506, 0.29401, -0.09011, 0.89087, -0.41134, 0.053119, -1.1069, 0.5643, 0.013431, 0.026913, -0.12528, 0.36259, 0.87077, -0.13809, 0.12142, 0.23551, 0.45862, 0.72485, 0.60657, 0.33171, -0.85589, -0.64844, -0.16643, 0.37115, -0.060601, -0.98814, -0.20104, 0.64183, 0.073006], [-0.49549, -0.78616, 0.86995, 0.46354, 0.45119, 0.011646, -0.26029, 0.23944, 0.39125, -0.03233, 0.46275, 0.19721, -0.26462, -1.0705, -1.0204, -0.025572, 0.17666, 0.71526, -0.3125, -0.11643, 1.2764, -0.2051, -0.79558, -0.32376, -0.09177, 1.1145, 0.58524, -0.18477, 0.82193, -0.86911, 0.5951, -0.31011, 0.84413, 0.80335, 0.74645, 0.43412, -0.046515, 0.14703, 1.1901, -0.40117, 0.5681, -0.81953, -0.30876, -1.0441, -0.55083, 0.17432, 1.724, -0.214, 0.49418, 0.95559, 0.42571, 0.096453, -0.103, -0.83877, -0.56717, 0.074008, -0.37542, -0.87548, 0.089894, 0.095186, -0.65281, -0.46561, -0.41529, 0.36386, 0.65981, -1.5113, 0.70953, 0.31061, -0.31942, 0.034562, 0.98121, 0.074506, 0.29401, -0.09011, 0.89087, -0.41134, 0.053119, -1.1069, 0.5643, 0.013431, 0.026913, -0.12528, 0.36259, 0.87077, -0.13809, 0.12142, 0.23551, 0.45862, 0.72485, 0.60657, 0.33171, -0.85589, -0.64844, -0.16643, 0.37115, -0.060601, -0.98814, -0.20104, 0.64183, 0.073006], [-0.63417, -0.32751, 1.1581, 0.37649, 0.59834, -0.13796, -0.052427, -0.21283, 0.1374, -0.42556, 0.50689, 0.085126, 0.11875, -1.0528, -0.58502, -0.12271, 0.52126, 1.0525, -0.45171, 0.4618, 1.3678, -0.068031, -0.80532, -0.39453, -0.37049, 1.3313, 0.62781, 0.24499, 0.91977, -0.29696, 0.70036, -0.23972, 0.78281, 0.78608, 0.78117, 0.44197, -0.032103, -0.1158, 1.4925, -0.48549, 0.039875, -1.0101, -0.14272, -1.4169, -0.37224, 0.31709, 1.4827, 0.13848, -0.0079959, 0.8964, 0.19645, 0.24268, 0.057533, -0.89797, -0.75921, 0.059105, -0.78403, -0.83468, -0.28536, -0.073714, -0.34793, -0.62474, -0.58446, 0.2719, 0.41285, -1.7939, 0.18213, 0.062806, 0.011298, -0.18975, 1.3653, 0.43909, 0.34139, -0.062838, 0.85244, -0.70057, 0.067887, -0.99148, 0.43361, -0.051319, -0.026171, -0.016544, 0.2, 0.42892, -0.16058, -0.034484, 0.65042, 0.70661, 0.39515, 0.39981, 0.50362, -1.2519, -0.45797, 0.13272, -0.14368, 0.02362, -1.4412, 0.18431, 0.65401, -0.0049358], [-0.5893, -0.1938, 0.72479, 0.4424, 0.11121, -1.227, 0.68069, 0.48884, 0.1362, 0.82517, -0.18575, 0.0025547, -0.068284, 0.25107, -0.52374, 0.30694, 0.64401, 0.089923, 0.24827, 0.20042, 0.55271, 0.39803, -0.11276, -0.63947, 0.93118, 1.2025, -0.048435, 0.29909, 0.66028, -0.1795, 0.1087, -0.7917, 1.2208, 0.81777, 0.86857, 0.050076, 0.43275, -0.59419, 0.01042, 0.022881, -0.22092, 0.35428, 0.31497, -0.14646, -0.21451, 0.94054, 0.58169, 0.77451, 0.14189, 0.60549, 0.14899, 0.071857, 0.48552, -0.87604, 0.022594, 0.61341, -1.0657, -0.40129, 0.70708, -0.018145, 0.11702, -0.49509, 0.23127, 0.09365, 0.7215, -0.78243, 0.039957, -0.18756, 0.13743, -0.82878, 0.5481, -0.15093, -0.05541, -0.21423, -0.10113, -1.0007, 0.45475, -0.87502, -0.12505, -0.49384, 0.67945, -0.011184, 0.18096, 0.19102, -0.30862, -0.4838, 0.46003, 0.40425, 0.67423, -0.28282, 0.49045, -0.30322, -0.84615, -0.43942, 0.39526, 0.10479, -0.89103, 0.2141, 0.31204, 0.20328], [0.083419, -0.73339, 0.22277, 0.53403, -0.23856, -0.052318, 0.27535, 0.003642, -0.29167, -0.0031466, -0.15374, -0.4443, 0.15249, -0.87725, -0.82561, 0.18884, -0.023801, 1.524, 0.37959, -0.33325, 0.45242, 0.28435, -0.089947, -0.20801, 1.0686, 1.6636, -0.75443, -0.65042, 1.4316, 1.4734, 0.78667, -0.32455, 1.0804, 0.013663, 1.5859, 0.06796, 0.1804, -0.85449, 1.6389, -0.26357, 0.48577, -0.43519, -0.72981, 0.37357, -0.70563, -0.057013, 0.59912, -0.24782, -0.48148, 0.64356, 0.25155, 0.53538, 1.244, -1.3074, -1.0072, 1.1507, 0.12386, -0.33557, -0.40194, -0.57679, 0.39466, -0.32245, -1.0287, -0.58016, 1.0611, -1.6563, 0.40766, 0.029997, -0.24589, -0.43829, 0.8598, -0.45745, -0.0051166, 0.57942, 0.90173, -0.79018, -0.068458, 0.8543, -0.95193, -0.41661, 0.7502, 1.639, 0.3429, 0.71824, -0.37876, -0.21266, 0.68343, 0.73662, 0.80863, 0.51841, 0.54153, -0.96117, -0.34889, 0.31723, 0.30275, 1.3358, -0.23687, 0.4003, 0.27013, -1.0857], [-0.40545, -0.030497, -0.15783, -0.29145, -0.49392, 0.10893, -0.45647, -0.053917, 0.24893, 0.21693, 0.18278, 0.41516, 0.18449, -1.1695, -0.213, -0.048111, -0.040541, 0.72598, 0.36277, 0.18206, -0.29162, -0.4564, -0.67614, 0.042565, -0.087217, 0.83327, -0.45629, 0.06317, -0.0022624, -0.77794, 1.0168, -0.37047, 1.0336, 0.20147, 1.6416, 0.1784, -0.18162, -0.095875, 1.2682, 0.1165, -0.38818, -0.94929, 0.29385, -1.0866, 0.024342, -0.70797, 0.89751, 0.10467, 0.26202, -0.53302, -0.30543, 0.024736, -1.0997, -0.2506, -0.64286, 0.59926, 0.29291, -1.287, 0.21423, -1.1863, -0.059381, -0.91431, -0.15499, 0.80972, 0.75918, -1.6527, 0.19632, 0.5592, -0.33184, -0.51416, 0.3986, -0.21933, 0.021293, 0.48894, 0.50619, -0.96773, 0.1331, 0.15252, -0.2917, 0.22932, -0.25555, -0.66639, 0.22967, 0.39521, -0.3444, -0.11207, 0.49214, -0.43438, 0.33955, -0.39652, 0.17335, 0.37268, 0.24544, 0.30971, 0.29494, 1.121, -0.46997, 0.31114, 0.58864, -0.14581], [-0.19643, -1.1053, 0.22992, -0.044909, -0.4071, -0.22644, -1.1019, -0.24666, 0.27037, 0.29564, -0.043294, 0.27107, 0.21324, -1.2493, 0.0365, 0.69348, -0.12721, 0.018999, 0.23516, 0.72442, -1.2466, -0.62577, -0.8849, 0.27757, -0.45487, 0.53168, -0.078388, -0.055178, 0.60246, -1.1297, 0.5924, 0.13455, 0.95789, 0.037567, 1.852, 0.037163, -0.45475, 0.25292, 1.0738, -0.53359, -0.21153, -1.4009, -0.12434, -0.96498, -0.22754, -0.34189, 1.3337, -0.16408, 0.27641, -0.98653, 0.44093, 0.053144, -0.76955, -0.040375, -0.5121, 0.45069, 0.59831, -1.2377, 0.14808, -1.3279, 0.17858, 0.51805, -0.062263, 0.64411, 1.1738, -0.86119, 0.41037, 0.14865, -1.1584, -0.80678, 0.59881, 0.042701, 0.62598, -0.033076, 0.8388, -0.97574, -0.030446, -0.34706, -0.26687, -0.15592, -0.12321, -0.12652, 0.18299, 0.39155, 0.07429, -0.015939, -0.0010368, -0.31844, 0.00020753, -0.89841, 0.26817, 0.41734, -0.27355, -0.27923, -0.33705, 1.0125, -0.40344, 0.62702, 0.35339, -0.30279], [-0.40025, -0.49349, 0.61352, -0.33786, -0.98938, -0.14766, -0.31542, -0.28021, 0.038347, -0.17848, 0.28738, 0.73337, 0.50471, -1.5286, -0.00059931, 0.33952, 0.2625, 0.27271, 0.21534, 0.047821, -0.42386, -0.26446, -0.87978, 0.045541, 0.0055459, 0.29687, -0.51625, 0.56628, 0.22986, -1.315, 0.74071, -0.36312, 0.8462, 0.19014, 1.6189, -0.12186, 0.47629, 0.01086, 1.9328, -0.34296, -0.67304, -0.36874, -0.094297, -0.52038, -0.2468, 0.36914, 0.93175, 0.14362, 0.3026, -0.63821, 0.1721, -0.16823, -0.40561, 0.077321, -0.75537, 0.039329, 0.33232, -1.1021, -0.033221, -0.88973, -0.22343, -0.78875, -0.10177, 0.24865, 0.81019, -0.84542, 0.32403, 0.35163, -0.52526, -0.10911, 0.34597, -0.45777, -0.47245, 0.67146, 0.47745, -0.16313, 0.04902, -0.60345, -0.2936, -0.42129, -0.46879, -0.57656, 0.61893, 0.74677, -0.24928, 0.065319, 0.29641, -0.10044, 0.92315, -0.28149, 0.25049, -0.7861, 0.39693, 0.071793, 0.32524, 0.99856, -0.38579, 0.55364, 0.64324, -0.058626], [-0.42523, -0.73996, 0.81434, -0.38946, -0.44846, -0.18117, -0.65844, -0.023435, 0.20172, 0.029562, 0.30622, 0.33585, 0.1473, -1.6584, -0.75038, 0.012488, 0.43957, 0.37071, 0.29845, 0.59522, -0.92078, -0.47802, -0.72134, -0.38733, -0.19859, 0.10921, -0.47971, 0.021627, 0.99553, -1.4761, 0.78739, -0.13332, 1.2688, 0.12179, 1.6028, 0.13696, 0.23199, 0.037404, 1.8129, -0.5119, 0.11488, -1.1026, -0.43718, -0.50281, 0.12462, 0.22123, 1.107, -0.10412, 0.30807, -0.71612, 0.34484, 0.52222, -0.28918, 0.21627, -0.59452, 0.23317, 0.14181, -1.188, 0.26506, -0.95087, -0.10778, 0.015837, -0.23507, 0.42227, 0.64821, -0.78721, 0.71701, 0.45187, -0.5152, -0.43562, 0.48736, -0.40575, 0.19755, 0.52603, 0.37214, -0.55855, 0.099948, -1.0715, -0.4838, -0.15284, -0.64143, -0.28021, 0.1319, 0.50584, 0.41898, -0.2343, -0.26926, -0.026318, 0.63594, -0.1009, 0.25121, -0.45491, -0.091757, 0.24778, -0.048588, 0.87714, -0.22574, 0.54946, 0.38673, 0.17107], [-0.52151, -0.72321, 0.93292, -0.54175, -0.36705, 0.13509, -0.73344, -0.31021, -0.1788, -0.21563, 0.27491, 0.30736, 0.2516, -1.7588, -0.54754, -0.12288, 0.7271, 0.30648, 0.15886, 0.47949, -0.66704, -0.51866, -0.26797, -0.41685, 0.10867, 0.25752, -0.51491, 0.37022, 0.91187, -1.1575, 0.60801, -0.056907, 1.3599, 0.34825, 1.5736, -0.11519, 0.081639, 0.2012, 1.8631, -0.65433, 0.027866, -0.91918, -0.38114, -0.38128, 0.077959, 0.55522, 0.78507, 0.3502, 0.24097, -0.54467, 0.0614, 0.17194, -0.50142, 0.192, -0.52097, 0.24523, 0.18622, -0.95603, 0.46747, -0.81036, -0.27342, -0.30899, -0.11056, 0.21088, 0.40784, -0.74986, 0.67897, 0.32636, -0.36959, -0.29386, 0.48087, -0.20295, 0.39273, 0.52535, 0.49351, -0.22759, 0.17221, -0.99198, -0.72499, -0.13692, -0.72424, -0.39639, 0.19011, 0.70409, 0.081502, -0.43302, -0.17716, -0.27751, 0.71117, 0.1265, 0.17906, -0.6638, 0.23765, 0.41265, -0.15699, 1.2196, 0.16829, 0.31858, 0.37725, 0.3961], [-0.40025, -0.49349, 0.61352, -0.33786, -0.98938, -0.14766, -0.31542, -0.28021, 0.038347, -0.17848, 0.28738, 0.73337, 0.50471, -1.5286, -0.00059931, 0.33952, 0.2625, 0.27271, 0.21534, 0.047821, -0.42386, -0.26446, -0.87978, 0.045541, 0.0055459, 0.29687, -0.51625, 0.56628, 0.22986, -1.315, 0.74071, -0.36312, 0.8462, 0.19014, 1.6189, -0.12186, 0.47629, 0.01086, 1.9328, -0.34296, -0.67304, -0.36874, -0.094297, -0.52038, -0.2468, 0.36914, 0.93175, 0.14362, 0.3026, -0.63821, 0.1721, -0.16823, -0.40561, 0.077321, -0.75537, 0.039329, 0.33232, -1.1021, -0.033221, -0.88973, -0.22343, -0.78875, -0.10177, 0.24865, 0.81019, -0.84542, 0.32403, 0.35163, -0.52526, -0.10911, 0.34597, -0.45777, -0.47245, 0.67146, 0.47745, -0.16313, 0.04902, -0.60345, -0.2936, -0.42129, -0.46879, -0.57656, 0.61893, 0.74677, -0.24928, 0.065319, 0.29641, -0.10044, 0.92315, -0.28149, 0.25049, -0.7861, 0.39693, 0.071793, 0.32524, 0.99856, -0.38579, 0.55364, 0.64324, -0.058626], [-0.52151, -0.72321, 0.93292, -0.54175, -0.36705, 0.13509, -0.73344, -0.31021, -0.1788, -0.21563, 0.27491, 0.30736, 0.2516, -1.7588, -0.54754, -0.12288, 0.7271, 0.30648, 0.15886, 0.47949, -0.66704, -0.51866, -0.26797, -0.41685, 0.10867, 0.25752, -0.51491, 0.37022, 0.91187, -1.1575, 0.60801, -0.056907, 1.3599, 0.34825, 1.5736, -0.11519, 0.081639, 0.2012, 1.8631, -0.65433, 0.027866, -0.91918, -0.38114, -0.38128, 0.077959, 0.55522, 0.78507, 0.3502, 0.24097, -0.54467, 0.0614, 0.17194, -0.50142, 0.192, -0.52097, 0.24523, 0.18622, -0.95603, 0.46747, -0.81036, -0.27342, -0.30899, -0.11056, 0.21088, 0.40784, -0.74986, 0.67897, 0.32636, -0.36959, -0.29386, 0.48087, -0.20295, 0.39273, 0.52535, 0.49351, -0.22759, 0.17221, -0.99198, -0.72499, -0.13692, -0.72424, -0.39639, 0.19011, 0.70409, 0.081502, -0.43302, -0.17716, -0.27751, 0.71117, 0.1265, 0.17906, -0.6638, 0.23765, 0.41265, -0.15699, 1.2196, 0.16829, 0.31858, 0.37725, 0.3961], [-0.46265, -0.6964, 0.60957, 0.12099, -0.024416, 0.45372, -0.45034, 0.25686, -1.0038, 0.18841, 0.38992, 0.079215, -0.154, -1.2137, -0.87588, -0.018403, 0.27924, -0.10589, -0.15266, 0.054881, -0.46655, -0.61814, -0.093406, -0.11775, 0.69759, 0.72123, -0.03822, 1.0466, 0.65886, -1.1323, 0.61305, 0.25128, 0.87305, 1.0322, 1.104, -0.10699, 0.48004, -0.17303, 1.2559, -0.17806, 0.057267, -0.198, -0.14169, -0.60219, -0.56925, 1.0882, 1.0038, 0.074469, 0.30803, -0.46161, 0.382, 0.25874, -0.22244, 0.18842, -0.47016, 0.091834, -0.23151, -1.2278, -0.32147, -0.57577, 0.080547, -0.50086, -0.013585, -0.38271, 0.47443, -0.97258, 0.51138, 0.19089, -0.26178, -0.34915, 0.13655, -0.11171, 0.48941, 0.57753, 0.81854, -0.38707, 0.085042, -0.60066, 0.028129, -0.36407, -0.48261, -0.31795, -0.0062663, 0.52847, -0.26068, 0.22285, -0.14666, 0.53038, 1.0937, 0.244, 0.31947, -0.5665, 0.1817, 0.18667, -0.23661, 1.1052, -0.22409, 0.029811, 0.47985, 0.37173], [0.002357, 0.31492, -0.16828, 1.8244, 1.577, -0.41158, -0.67503, 1.5555, -0.76259, 0.22223, 0.4265, -0.15363, -0.10913, 0.36256, -0.58923, 0.68496, 0.89472, -0.087354, 1.3775, 0.17213, -0.56619, 0.63899, -0.76782, 0.092456, 1.4408, -0.18711, -0.33497, 0.50874, 0.83952, -0.5349, -0.38415, -0.37396, 0.49849, 0.11401, 1.18, 0.17802, 1.0584, -0.48735, 0.95772, -0.38799, 0.63903, -0.46982, 0.17373, 1.0767, -0.87507, 1.4743, 0.97033, 0.86681, -0.10363, 0.68534, -0.73445, 0.58605, 0.46414, 0.33232, -0.46097, -0.56835, 0.45912, -0.55694, -0.20742, -0.72158, -0.076571, -0.82236, -0.65068, -0.36432, 0.95227, 0.24628, 1.3231, 0.053443, -0.63067, -0.11785, 0.97312, -0.17208, -0.38391, -1.0017, 0.08866, -1.1583, 0.68836, 0.43505, -0.50745, -0.85987, -0.082515, 0.13803, 0.42485, -0.024371, -1.6477, -1.4555, -0.9903, 1.4361, -0.20168, -1.147, -0.35859, -0.68505, -0.68174, -1.6434, 0.46879, 0.55496, -0.30331, 0.47843, -0.20824, -1.0475], [0.74425, -0.51671, 0.33479, 0.44823, -0.083518, 0.051338, 0.48074, 0.59645, 0.050685, -0.49844, 0.3387, 0.57484, -0.16242, -0.85035, -1.2767, 0.24457, -0.19157, 0.11421, 0.049775, 0.30229, -0.98953, -0.36078, -0.51931, 0.017958, 0.4493, 0.36175, -0.10263, 0.1266, 0.51745, -0.94861, 0.25903, -0.028976, 0.6713, 0.40256, 1.7597, 1.1902, 0.35622, -0.23858, 0.66894, -0.73118, 0.66787, -0.21154, -0.19392, -0.99892, -0.12801, 0.45243, 1.0776, -0.36583, 0.908, -0.15911, 0.32714, 0.1052, 0.087782, -0.07951, -0.48314, -0.05922, -0.11602, -1.3599, -0.36974, -1.0591, -0.7298, 0.45144, -0.6514, -0.63867, 0.38904, -0.36251, 0.025271, 0.50079, -0.25351, -0.58958, 0.74804, -0.37178, 0.56993, -0.5707, 0.17983, -0.70682, -0.76884, -0.89209, -0.37622, 0.17462, -0.36548, -0.16657, 0.78268, 0.21963, -0.35827, -0.13492, -0.54011, 0.12331, 0.87776, -0.075645, 0.81531, 0.033713, -0.57186, -0.29209, 0.04066, 0.77464, -1.3069, -0.13118, -0.19935, 0.296], [-0.00067733, -0.69046, 0.25628, 1.6884, 0.11374, 0.11346, -0.040783, 0.48411, -0.17781, -0.57934, 0.089004, -0.026723, -0.36113, -1.7687, -0.88874, 0.0039904, 0.21254, -0.076094, -0.28541, -0.58106, -0.25327, -0.11203, -0.48043, 0.13517, 0.9502, 0.50581, -0.48617, 0.40957, 0.075653, -0.99272, 0.48676, -0.48273, 0.19434, -0.32215, 1.2312, 0.39286, 0.49495, -0.1947, 0.72998, -0.28542, -0.44628, 0.60851, 0.36223, -0.28416, -0.9366, 0.7122, 0.23041, -0.30175, 0.90877, -0.27894, 0.45167, 0.41782, -0.015881, -0.51543, -0.26427, -0.28912, -0.2232, -1.0553, -0.71697, -1.024, -0.33404, -0.57268, -0.28067, -0.55452, 0.35949, -1.0639, 0.060287, 0.33131, -0.33491, -0.35997, 0.68346, -0.38226, -0.17092, 0.35999, 0.36541, -0.28559, -0.77554, -0.74938, -0.36209, -0.4034, -0.37547, -0.78716, 0.65346, 0.6269, -0.067762, 0.5209, 0.28577, 0.69838, 0.41563, -0.2973, 0.43104, -0.5935, 0.12398, -0.68325, 0.097352, 0.62807, -0.76909, -0.45248, -0.39947, 0.73385], [-0.32891, 0.23803, 0.29021, 0.83957, 0.031838, -0.81929, -0.052047, 0.39537, 0.19009, -0.19575, 0.056939, 0.46546, 0.071963, -0.36852, -1.0682, 0.47741, 0.51341, 0.5771, 0.16505, -0.18195, -0.0095719, 0.74653, 0.18117, -0.98527, 0.027346, 0.70615, 0.081205, 0.25378, 0.60054, -0.3568, 0.084729, -0.44537, 1.041, 0.49662, 1.0176, -0.032309, 0.47712, -0.72132, 0.32116, -0.1492, -0.30211, -0.1878, -0.34068, -0.34469, -0.37596, 0.13534, -0.042577, 0.47037, 0.38173, 0.02401, 0.25317, 0.018933, 0.17454, 0.26111, 0.37945, -0.037936, -0.15524, -0.23774, 0.20404, -0.43539, 0.25338, -0.71188, -0.91593, -0.25016, 0.30419, -0.61576, 0.2251, -0.33505, -0.55966, -0.64233, 0.22683, 0.58654, 0.20928, 0.090077, 0.4737, -0.48831, 0.097392, -0.36023, -0.42685, -0.6619, 0.41016, 0.41681, -0.21686, 0.0038436, -0.2481, -0.029816, -0.28463, 0.57992, 0.026507, -0.40685, 0.32756, -0.24825, -0.19197, 0.020754, 0.38723, 0.15414, -0.36587, 0.57487, 0.46701, 0.092407]]'"
            ],
            "application/vnd.google.colaboratory.intrinsic+json": {
              "type": "string"
            }
          },
          "metadata": {},
          "execution_count": 19
        }
      ],
      "source": [
        "train_df.iloc[0]['word_vector']"
      ]
    },
    {
      "cell_type": "markdown",
      "source": [
        "Our column category is a categorical variable and hence does not require any preprocessing but the column 'word_vector' does"
      ],
      "metadata": {
        "id": "jexclGI2n0K9"
      }
    },
    {
      "cell_type": "code",
      "execution_count": null,
      "metadata": {
        "id": "FxKtFBjFELCA",
        "colab": {
          "base_uri": "https://localhost:8080/",
          "height": 424
        },
        "outputId": "02f68832-b8d2-4850-c09a-28e156d67a89"
      },
      "outputs": [
        {
          "output_type": "execute_result",
          "data": {
            "text/plain": [
              "        category                                        word_vector  label\n",
              "0             24  [[-0.507, -0.49518, 0.46885, 0.54524, -0.11552...    2.0\n",
              "1             13  [[0.19911, -0.46156, 0.19674, -1.3298, 0.51805...    1.0\n",
              "2             24  [[-0.7403, -0.78746, 0.47018, 0.43474, 0.05842...    1.0\n",
              "3             21  [[-0.44257, -0.54624, 0.25403, 0.80731, 1.026,...    1.0\n",
              "4             13  [[0.19911, -0.46156, 0.19674, -1.3298, 0.51805...    2.0\n",
              "...          ...                                                ...    ...\n",
              "123035        24  [[-0.081545, 0.25175, 0.027983, 0.064531, 0.25...    2.0\n",
              "123036         7  [[-0.35721, -0.54399, 0.26479, -0.15312, -0.00...    2.0\n",
              "123037        19  [[-1.5145, 0.9682, 0.34735, 1.0024, 0.042789, ...    2.0\n",
              "123038        13  [[0.19911, -0.46156, 0.19674, -1.3298, 0.51805...    1.0\n",
              "123039        13  [[0.19911, -0.46156, 0.19674, -1.3298, 0.51805...    1.0\n",
              "\n",
              "[123040 rows x 3 columns]"
            ],
            "text/html": [
              "\n",
              "  <div id=\"df-b8c1134d-7fc4-4678-b6d4-010f4878ab5e\">\n",
              "    <div class=\"colab-df-container\">\n",
              "      <div>\n",
              "<style scoped>\n",
              "    .dataframe tbody tr th:only-of-type {\n",
              "        vertical-align: middle;\n",
              "    }\n",
              "\n",
              "    .dataframe tbody tr th {\n",
              "        vertical-align: top;\n",
              "    }\n",
              "\n",
              "    .dataframe thead th {\n",
              "        text-align: right;\n",
              "    }\n",
              "</style>\n",
              "<table border=\"1\" class=\"dataframe\">\n",
              "  <thead>\n",
              "    <tr style=\"text-align: right;\">\n",
              "      <th></th>\n",
              "      <th>category</th>\n",
              "      <th>word_vector</th>\n",
              "      <th>label</th>\n",
              "    </tr>\n",
              "  </thead>\n",
              "  <tbody>\n",
              "    <tr>\n",
              "      <th>0</th>\n",
              "      <td>24</td>\n",
              "      <td>[[-0.507, -0.49518, 0.46885, 0.54524, -0.11552...</td>\n",
              "      <td>2.0</td>\n",
              "    </tr>\n",
              "    <tr>\n",
              "      <th>1</th>\n",
              "      <td>13</td>\n",
              "      <td>[[0.19911, -0.46156, 0.19674, -1.3298, 0.51805...</td>\n",
              "      <td>1.0</td>\n",
              "    </tr>\n",
              "    <tr>\n",
              "      <th>2</th>\n",
              "      <td>24</td>\n",
              "      <td>[[-0.7403, -0.78746, 0.47018, 0.43474, 0.05842...</td>\n",
              "      <td>1.0</td>\n",
              "    </tr>\n",
              "    <tr>\n",
              "      <th>3</th>\n",
              "      <td>21</td>\n",
              "      <td>[[-0.44257, -0.54624, 0.25403, 0.80731, 1.026,...</td>\n",
              "      <td>1.0</td>\n",
              "    </tr>\n",
              "    <tr>\n",
              "      <th>4</th>\n",
              "      <td>13</td>\n",
              "      <td>[[0.19911, -0.46156, 0.19674, -1.3298, 0.51805...</td>\n",
              "      <td>2.0</td>\n",
              "    </tr>\n",
              "    <tr>\n",
              "      <th>...</th>\n",
              "      <td>...</td>\n",
              "      <td>...</td>\n",
              "      <td>...</td>\n",
              "    </tr>\n",
              "    <tr>\n",
              "      <th>123035</th>\n",
              "      <td>24</td>\n",
              "      <td>[[-0.081545, 0.25175, 0.027983, 0.064531, 0.25...</td>\n",
              "      <td>2.0</td>\n",
              "    </tr>\n",
              "    <tr>\n",
              "      <th>123036</th>\n",
              "      <td>7</td>\n",
              "      <td>[[-0.35721, -0.54399, 0.26479, -0.15312, -0.00...</td>\n",
              "      <td>2.0</td>\n",
              "    </tr>\n",
              "    <tr>\n",
              "      <th>123037</th>\n",
              "      <td>19</td>\n",
              "      <td>[[-1.5145, 0.9682, 0.34735, 1.0024, 0.042789, ...</td>\n",
              "      <td>2.0</td>\n",
              "    </tr>\n",
              "    <tr>\n",
              "      <th>123038</th>\n",
              "      <td>13</td>\n",
              "      <td>[[0.19911, -0.46156, 0.19674, -1.3298, 0.51805...</td>\n",
              "      <td>1.0</td>\n",
              "    </tr>\n",
              "    <tr>\n",
              "      <th>123039</th>\n",
              "      <td>13</td>\n",
              "      <td>[[0.19911, -0.46156, 0.19674, -1.3298, 0.51805...</td>\n",
              "      <td>1.0</td>\n",
              "    </tr>\n",
              "  </tbody>\n",
              "</table>\n",
              "<p>123040 rows × 3 columns</p>\n",
              "</div>\n",
              "      <button class=\"colab-df-convert\" onclick=\"convertToInteractive('df-b8c1134d-7fc4-4678-b6d4-010f4878ab5e')\"\n",
              "              title=\"Convert this dataframe to an interactive table.\"\n",
              "              style=\"display:none;\">\n",
              "        \n",
              "  <svg xmlns=\"http://www.w3.org/2000/svg\" height=\"24px\"viewBox=\"0 0 24 24\"\n",
              "       width=\"24px\">\n",
              "    <path d=\"M0 0h24v24H0V0z\" fill=\"none\"/>\n",
              "    <path d=\"M18.56 5.44l.94 2.06.94-2.06 2.06-.94-2.06-.94-.94-2.06-.94 2.06-2.06.94zm-11 1L8.5 8.5l.94-2.06 2.06-.94-2.06-.94L8.5 2.5l-.94 2.06-2.06.94zm10 10l.94 2.06.94-2.06 2.06-.94-2.06-.94-.94-2.06-.94 2.06-2.06.94z\"/><path d=\"M17.41 7.96l-1.37-1.37c-.4-.4-.92-.59-1.43-.59-.52 0-1.04.2-1.43.59L10.3 9.45l-7.72 7.72c-.78.78-.78 2.05 0 2.83L4 21.41c.39.39.9.59 1.41.59.51 0 1.02-.2 1.41-.59l7.78-7.78 2.81-2.81c.8-.78.8-2.07 0-2.86zM5.41 20L4 18.59l7.72-7.72 1.47 1.35L5.41 20z\"/>\n",
              "  </svg>\n",
              "      </button>\n",
              "      \n",
              "  <style>\n",
              "    .colab-df-container {\n",
              "      display:flex;\n",
              "      flex-wrap:wrap;\n",
              "      gap: 12px;\n",
              "    }\n",
              "\n",
              "    .colab-df-convert {\n",
              "      background-color: #E8F0FE;\n",
              "      border: none;\n",
              "      border-radius: 50%;\n",
              "      cursor: pointer;\n",
              "      display: none;\n",
              "      fill: #1967D2;\n",
              "      height: 32px;\n",
              "      padding: 0 0 0 0;\n",
              "      width: 32px;\n",
              "    }\n",
              "\n",
              "    .colab-df-convert:hover {\n",
              "      background-color: #E2EBFA;\n",
              "      box-shadow: 0px 1px 2px rgba(60, 64, 67, 0.3), 0px 1px 3px 1px rgba(60, 64, 67, 0.15);\n",
              "      fill: #174EA6;\n",
              "    }\n",
              "\n",
              "    [theme=dark] .colab-df-convert {\n",
              "      background-color: #3B4455;\n",
              "      fill: #D2E3FC;\n",
              "    }\n",
              "\n",
              "    [theme=dark] .colab-df-convert:hover {\n",
              "      background-color: #434B5C;\n",
              "      box-shadow: 0px 1px 3px 1px rgba(0, 0, 0, 0.15);\n",
              "      filter: drop-shadow(0px 1px 2px rgba(0, 0, 0, 0.3));\n",
              "      fill: #FFFFFF;\n",
              "    }\n",
              "  </style>\n",
              "\n",
              "      <script>\n",
              "        const buttonEl =\n",
              "          document.querySelector('#df-b8c1134d-7fc4-4678-b6d4-010f4878ab5e button.colab-df-convert');\n",
              "        buttonEl.style.display =\n",
              "          google.colab.kernel.accessAllowed ? 'block' : 'none';\n",
              "\n",
              "        async function convertToInteractive(key) {\n",
              "          const element = document.querySelector('#df-b8c1134d-7fc4-4678-b6d4-010f4878ab5e');\n",
              "          const dataTable =\n",
              "            await google.colab.kernel.invokeFunction('convertToInteractive',\n",
              "                                                     [key], {});\n",
              "          if (!dataTable) return;\n",
              "\n",
              "          const docLinkHtml = 'Like what you see? Visit the ' +\n",
              "            '<a target=\"_blank\" href=https://colab.research.google.com/notebooks/data_table.ipynb>data table notebook</a>'\n",
              "            + ' to learn more about interactive tables.';\n",
              "          element.innerHTML = '';\n",
              "          dataTable['output_type'] = 'display_data';\n",
              "          await google.colab.output.renderOutput(dataTable, element);\n",
              "          const docLink = document.createElement('div');\n",
              "          docLink.innerHTML = docLinkHtml;\n",
              "          element.appendChild(docLink);\n",
              "        }\n",
              "      </script>\n",
              "    </div>\n",
              "  </div>\n",
              "  "
            ]
          },
          "metadata": {},
          "execution_count": 20
        }
      ],
      "source": [
        "train_df"
      ]
    },
    {
      "cell_type": "code",
      "source": [
        "train.duplicated().sum()"
      ],
      "metadata": {
        "colab": {
          "base_uri": "https://localhost:8080/"
        },
        "id": "qxBnQtu32Gzr",
        "outputId": "4efb0b66-2e45-4edd-eff7-48437135ee9d"
      },
      "execution_count": 198,
      "outputs": [
        {
          "output_type": "execute_result",
          "data": {
            "text/plain": [
              "114881"
            ]
          },
          "metadata": {},
          "execution_count": 198
        }
      ]
    },
    {
      "cell_type": "code",
      "source": [
        "train[train.duplicated()]['label'].value_counts()"
      ],
      "metadata": {
        "colab": {
          "base_uri": "https://localhost:8080/"
        },
        "id": "dRrRUIuG1ZbS",
        "outputId": "78e4f0af-a0f7-4262-8888-40d442ad76a1"
      },
      "execution_count": 197,
      "outputs": [
        {
          "output_type": "execute_result",
          "data": {
            "text/plain": [
              "1.0    59844\n",
              "2.0    55037\n",
              "Name: label, dtype: int64"
            ]
          },
          "metadata": {},
          "execution_count": 197
        }
      ]
    },
    {
      "cell_type": "markdown",
      "source": [
        "Trying to understand the duplicate data. We realise that the duplicates are not biased to one class. Therefore, we will decide by takinng a baseline on both models "
      ],
      "metadata": {
        "id": "yyQ3v2xXkIVQ"
      }
    },
    {
      "cell_type": "markdown",
      "metadata": {
        "id": "PFFUAowZgnVQ"
      },
      "source": [
        "# Data preprocessing"
      ]
    },
    {
      "cell_type": "markdown",
      "source": [
        "In order to read the string values as integers, we are using eval on each value"
      ],
      "metadata": {
        "id": "V5sIvg9zolk4"
      }
    },
    {
      "cell_type": "code",
      "execution_count": 56,
      "metadata": {
        "id": "za3pkODQJ4T0"
      },
      "outputs": [],
      "source": [
        "train_df['word_vector'] = train_df['word_vector'].apply(lambda x: np.array(eval(x)))"
      ]
    },
    {
      "cell_type": "code",
      "source": [
        "train_df['word_vector'][0]"
      ],
      "metadata": {
        "id": "5XZobfkZMI4d"
      },
      "execution_count": null,
      "outputs": []
    },
    {
      "cell_type": "markdown",
      "source": [
        "We have flattened the array now by replacing the entire array with the mean of the array which makes it look like this"
      ],
      "metadata": {
        "id": "-GuxPj54oqVx"
      }
    },
    {
      "cell_type": "code",
      "execution_count": 57,
      "metadata": {
        "id": "1f40Gxn8SvJA"
      },
      "outputs": [],
      "source": [
        "train_df['word_vector'] = train_df['word_vector'].apply(lambda x: np.mean(x, axis=0))"
      ]
    },
    {
      "cell_type": "code",
      "source": [
        "train_df['word_vector'][0]"
      ],
      "metadata": {
        "id": "ABouMW_OoEzW"
      },
      "execution_count": null,
      "outputs": []
    },
    {
      "cell_type": "code",
      "source": [
        "train_df"
      ],
      "metadata": {
        "id": "BmPHQ3YZM33_"
      },
      "execution_count": null,
      "outputs": []
    },
    {
      "cell_type": "code",
      "execution_count": 58,
      "metadata": {
        "id": "gSP81IDHSu5Y"
      },
      "outputs": [],
      "source": [
        "word_vectors = np.stack(train_df.drop(['label'], axis=1)['word_vector'].to_numpy())"
      ]
    },
    {
      "cell_type": "code",
      "source": [
        "word_vectors"
      ],
      "metadata": {
        "id": "XxOtOzCkMems"
      },
      "execution_count": null,
      "outputs": []
    },
    {
      "cell_type": "code",
      "execution_count": 59,
      "metadata": {
        "id": "rRN5DfidHXR9"
      },
      "outputs": [],
      "source": [
        "X = np.hstack([word_vectors, train_df['category'].to_numpy().reshape(-1, 1)])\n",
        "Y = train_df['label']"
      ]
    },
    {
      "cell_type": "code",
      "source": [
        "train_df = pd.DataFrame(X)\n",
        "train_df['label'] = Y"
      ],
      "metadata": {
        "id": "0ytQp1DW4DDP"
      },
      "execution_count": 60,
      "outputs": []
    },
    {
      "cell_type": "code",
      "execution_count": null,
      "metadata": {
        "id": "J24_saiKUYs_"
      },
      "outputs": [],
      "source": [
        "print(X.shape, Y.shape)"
      ]
    },
    {
      "cell_type": "code",
      "source": [
        "train"
      ],
      "metadata": {
        "id": "8k-UQtw6959x"
      },
      "execution_count": null,
      "outputs": []
    },
    {
      "cell_type": "code",
      "source": [
        "train[~train.duplicated()]['label'].value_counts()"
      ],
      "metadata": {
        "id": "aRB8CT8VsqHz"
      },
      "execution_count": null,
      "outputs": []
    },
    {
      "cell_type": "code",
      "source": [
        "def tsne_plot(X, Y):\n",
        "  tsne = TSNE(n_components=2, verbose=1)\n",
        "  z = tsne.fit_transform(X) \n",
        "  TSNE_training = pd.DataFrame()\n",
        "  TSNE_training[\"y\"] = Y\n",
        "  TSNE_training[\"comp-1\"] = z[:,0]\n",
        "  TSNE_training[\"comp-2\"] = z[:,1]\n",
        "\n",
        "  sns.scatterplot(x=\"comp-1\", y=\"comp-2\", hue=TSNE_training.y.tolist(),\n",
        "                  data=TSNE_training).set(title=\"TSNE projection for Training dataset\") "
      ],
      "metadata": {
        "id": "u6dzmsqp3FQh"
      },
      "execution_count": null,
      "outputs": []
    },
    {
      "cell_type": "code",
      "execution_count": null,
      "metadata": {
        "id": "z0LTP9y0zUUK"
      },
      "outputs": [],
      "source": [
        "tsne_plot(X, Y)"
      ]
    },
    {
      "cell_type": "code",
      "source": [],
      "metadata": {
        "id": "8cyE0cprmetK"
      },
      "execution_count": null,
      "outputs": []
    },
    {
      "cell_type": "code",
      "source": [
        "test_df['word_vector'] = test_df['word_vector'].apply(lambda x: np.array(eval(x)))"
      ],
      "metadata": {
        "id": "B9-j3yyRmPe0"
      },
      "execution_count": 108,
      "outputs": []
    },
    {
      "cell_type": "code",
      "source": [
        "test_df['word_vector'] = test_df['word_vector'].apply(lambda x: np.mean(x, axis=0))"
      ],
      "metadata": {
        "id": "ogXURtBgmUEy"
      },
      "execution_count": 109,
      "outputs": []
    },
    {
      "cell_type": "code",
      "source": [
        "word_vectors_test = np.stack(test_df['word_vector'].to_numpy())"
      ],
      "metadata": {
        "id": "DHI8Hzv8mYpH"
      },
      "execution_count": 110,
      "outputs": []
    },
    {
      "cell_type": "code",
      "execution_count": 111,
      "metadata": {
        "id": "53FpRWhdme2m"
      },
      "outputs": [],
      "source": [
        "X_test = np.hstack([word_vectors_test, test_df['category'].to_numpy().reshape(-1, 1)])"
      ]
    },
    {
      "cell_type": "code",
      "source": [
        "test_df = pd.DataFrame(X_test)"
      ],
      "metadata": {
        "id": "Hw-Fpg_sme2m"
      },
      "execution_count": 112,
      "outputs": []
    },
    {
      "cell_type": "markdown",
      "source": [
        "# Creating the upsampled dataset version"
      ],
      "metadata": {
        "id": "5ZljbIkOrCsR"
      }
    },
    {
      "cell_type": "code",
      "source": [
        "upsampled_train_df = pd.DataFrame(X)\n",
        "upsampled_train_df['label'] = Y"
      ],
      "metadata": {
        "id": "c04-dP17tEiu"
      },
      "execution_count": 61,
      "outputs": []
    },
    {
      "cell_type": "code",
      "source": [
        "upsampled_train_df = upsampled_train_df.drop_duplicates()"
      ],
      "metadata": {
        "id": "eeJ4Llk1rGjN"
      },
      "execution_count": 62,
      "outputs": []
    },
    {
      "cell_type": "code",
      "source": [
        "upsampled_train_df.label.value_counts()"
      ],
      "metadata": {
        "colab": {
          "base_uri": "https://localhost:8080/"
        },
        "id": "r2HloMAotWLJ",
        "outputId": "396d0408-2b74-4489-c056-cfec1ebe74d7"
      },
      "execution_count": 40,
      "outputs": [
        {
          "output_type": "execute_result",
          "data": {
            "text/plain": [
              "1.0    2\n",
              "2.0    1\n",
              "Name: label, dtype: int64"
            ]
          },
          "metadata": {},
          "execution_count": 40
        }
      ]
    },
    {
      "cell_type": "code",
      "source": [
        "X = upsampled_train_df.drop(['label'], axis=1)\n",
        "Y = upsampled_train_df['label']"
      ],
      "metadata": {
        "id": "LkCR5ToYsHmK"
      },
      "execution_count": 63,
      "outputs": []
    },
    {
      "cell_type": "code",
      "source": [
        "sm = RandomOverSampler(random_state=42)\n",
        "X_res, y_res = sm.fit_resample(X, Y)"
      ],
      "metadata": {
        "id": "GHrNmAWiryf1"
      },
      "execution_count": 64,
      "outputs": []
    },
    {
      "cell_type": "code",
      "source": [
        "tsne_plot(X_res, y_res)"
      ],
      "metadata": {
        "id": "IZJY9-Z63ZJ-"
      },
      "execution_count": null,
      "outputs": []
    },
    {
      "cell_type": "code",
      "source": [
        "upsampled_train_df = pd.DataFrame(X_res)\n",
        "upsampled_train_df['label'] = y_res"
      ],
      "metadata": {
        "colab": {
          "base_uri": "https://localhost:8080/"
        },
        "id": "N7IZxSoPt5Xr",
        "outputId": "e324ec3c-8be2-40b8-c950-3ba3b17abd1b"
      },
      "execution_count": 65,
      "outputs": [
        {
          "output_type": "stream",
          "name": "stderr",
          "text": [
            "<ipython-input-65-e7d1790fdbda>:2: PerformanceWarning: DataFrame is highly fragmented.  This is usually the result of calling `frame.insert` many times, which has poor performance.  Consider joining all columns at once using pd.concat(axis=1) instead.  To get a de-fragmented frame, use `newframe = frame.copy()`\n",
            "  upsampled_train_df['label'] = y_res\n"
          ]
        }
      ]
    },
    {
      "cell_type": "code",
      "source": [
        "upsampled_train_df"
      ],
      "metadata": {
        "id": "J2XQ843wt9RM"
      },
      "execution_count": null,
      "outputs": []
    },
    {
      "cell_type": "markdown",
      "source": [
        "# Defining the baselines"
      ],
      "metadata": {
        "id": "UIWYmG6-XGfd"
      }
    },
    {
      "cell_type": "code",
      "source": [
        "import numpy as np\n",
        "import pandas as pd\n",
        "import matplotlib.pyplot as plt\n",
        "import seaborn as sns\n",
        "\n",
        "from sklearn.model_selection import train_test_split\n",
        "from sklearn.ensemble import RandomForestClassifier\n",
        "from xgboost import XGBClassifier\n",
        "from sklearn.linear_model import LogisticRegression\n",
        "from sklearn.metrics import accuracy_score, confusion_matrix, classification_report\n",
        "from sklearn.metrics import f1_score, recall_score\n",
        "from imblearn.metrics import geometric_mean_score\n",
        "\n",
        "seed_value = 42\n",
        "np.random.seed(12345)\n",
        "\n",
        "def baseline(xtrain, ytrain, xtest, ytest) :\n",
        "  accuracy = {}\n",
        "  f1_score_vals = {}\n",
        "  recall_vals = {}\n",
        "  g_mean = {}\n",
        "  # -------------------- Decision Tree ---------------------------------\n",
        "  # Decision Trrr  - using an implicitly ensembled model to get baseline\n",
        "  r_tree = DecisionTreeClassifier(random_state=seed_value)\n",
        "  r_tree.fit(xtrain,ytrain)\n",
        "  y_pred_tree = r_tree.predict(xtest)\n",
        "  accuracy[\"Decision Tree\"] = r_tree.score(xtest,ytest)\n",
        "  f1_score_vals[\"Decision Tree\"] = f1_score(ytest, y_pred_tree)\n",
        "  recall_vals[\"Decision Tree\"] = recall_score(ytest, y_pred_tree)\n",
        "  g_mean['Decision Tree'] = geometric_mean_score(ytest, y_pred_tree)\n",
        "\n",
        "  # print confusion matrix\n",
        "  conf_mat = confusion_matrix(ytest,y_pred_tree)\n",
        "  f, ax = plt.subplots(figsize=(5,5))\n",
        "  sns.heatmap(conf_mat,annot=True,linewidths=0.5,linecolor=\"red\",fmt=\".0f\",ax=ax)\n",
        "  plt.xlabel(\"Predicted Values\")\n",
        "  plt.ylabel(\"True Values\")\n",
        "  plt.show()\n",
        "\n",
        "  # ----------------- LOGISTIC REGRESSION -----------------------------\n",
        "  log_reg = LogisticRegression(random_state=seed_value)\n",
        "  log_reg.fit(xtrain,ytrain)\n",
        "  y_pred_lr = log_reg.predict(xtest)\n",
        "  accuracy[\"Logistic Regression\"] = log_reg.score(xtest,ytest)\n",
        "  f1_score_vals[\"Logistic Regression\"] = f1_score(ytest, y_pred_lr)\n",
        "  recall_vals[\"Logistic Regression\"] = recall_score(ytest, y_pred_lr)\n",
        "  g_mean['Logistic Regression'] = geometric_mean_score(ytest, y_pred_lr)\n",
        "\n",
        "  conf_mat = confusion_matrix(ytest,y_pred_lr)\n",
        "  f, ax = plt.subplots(figsize=(5,5))\n",
        "  sns.heatmap(conf_mat,annot=True,linewidths=0.5,linecolor=\"red\",fmt=\".0f\",ax=ax)\n",
        "  plt.xlabel(\"Predicted Values\")\n",
        "  plt.ylabel(\"True Values\")\n",
        "  plt.show()\n",
        "\n",
        "  # ----------------------------- SVM ---------------------------------\n",
        "  svm = SVC(kernel='linear', max_iter=100000)\n",
        "  svm.fit(xtrain,ytrain)\n",
        "  y_pred_svm = svm.predict(xtest)\n",
        "  accuracy[\"svm\"] = svm.score(xtest,ytest)\n",
        "  f1_score_vals[\"svm\"] = f1_score(ytest, y_pred_svm)\n",
        "  recall_vals[\"svm\"] = recall_score(ytest, y_pred_svm)\n",
        "  g_mean['svm'] = geometric_mean_score(ytest, y_pred_svm)\n",
        "\n",
        "  \n",
        "  conf_mat = confusion_matrix(ytest,y_pred_svm)\n",
        "  f, ax = plt.subplots(figsize=(5,5))\n",
        "  sns.heatmap(conf_mat,annot=True,linewidths=0.5,linecolor=\"red\",fmt=\".0f\",ax=ax)\n",
        "  plt.xlabel(\"Predicted Values\")\n",
        "  plt.ylabel(\"True Values\")\n",
        "  plt.show()\n",
        "\n",
        "  return accuracy, f1_score_vals, recall_vals, g_mean"
      ],
      "metadata": {
        "id": "w4CXz3DQufOj"
      },
      "execution_count": 151,
      "outputs": []
    },
    {
      "cell_type": "code",
      "source": [
        "def show_skewness (data):\n",
        "  for i in data.columns:\n",
        "    data[i].plot(kind='kde')\n",
        "    plt.title(f\"Density plot of {i} with skewness \"+ str(data[i].skew(axis=0)))\n",
        "    plt.show()\n",
        "    plt.xlabel(i)\n",
        "    print('\\n')"
      ],
      "metadata": {
        "id": "oGUPxHUp8aS_"
      },
      "execution_count": null,
      "outputs": []
    },
    {
      "cell_type": "code",
      "source": [
        "def requiring_scaling (data):\n",
        "  for i in data.columns:\n",
        "    if data[i].max() - data[i].min() > 3:\n",
        "      print(i)\n",
        "      data[i].plot(kind='kde')\n",
        "      plt.title(f\"Density plot of {i} with skewness \"+ str(data[i].skew(axis=0)))\n",
        "      plt.show()\n",
        "      plt.xlabel(i)\n",
        "    print('\\n')"
      ],
      "metadata": {
        "id": "wZV3IXGXB4bQ"
      },
      "execution_count": null,
      "outputs": []
    },
    {
      "cell_type": "code",
      "source": [
        "train_df_X = train_df.drop(['label'], axis=1)\n",
        "train_df_y = train_df['label']"
      ],
      "metadata": {
        "id": "fmZ_CzL73Ifb"
      },
      "execution_count": 152,
      "outputs": []
    },
    {
      "cell_type": "code",
      "source": [
        "upsampled_train_df_X = upsampled_train_df.drop(['label'], axis=1)\n",
        "upsampled_train_df_y = upsampled_train_df['label']"
      ],
      "metadata": {
        "id": "Zy7WQ9on3RRo"
      },
      "execution_count": 153,
      "outputs": []
    },
    {
      "cell_type": "code",
      "source": [
        "X_train, X_dev, y_train, y_dev = train_test_split(\n",
        "    train_df_X, train_df_y, test_size=0.33, random_state=42)"
      ],
      "metadata": {
        "id": "_wa8mBO-2_U8"
      },
      "execution_count": 154,
      "outputs": []
    },
    {
      "cell_type": "code",
      "source": [
        "from sklearn.preprocessing import StandardScaler    \n",
        "st_x= StandardScaler()    \n",
        "X_train= st_x.fit_transform(X_train)    \n",
        "X_dev= st_x.transform(X_dev)"
      ],
      "metadata": {
        "id": "MEPglqkGDZMo"
      },
      "execution_count": 155,
      "outputs": []
    },
    {
      "cell_type": "code",
      "source": [
        "upsampled_X_train, upsampled_X_dev, upsampled_y_train, upsampled_y_dev = train_test_split(\n",
        "    upsampled_train_df_X, upsampled_train_df_y, test_size=0.33, random_state=42)"
      ],
      "metadata": {
        "id": "nDWyaHNf2UDv"
      },
      "execution_count": 156,
      "outputs": []
    },
    {
      "cell_type": "code",
      "source": [
        "from sklearn.preprocessing import StandardScaler    \n",
        "st_x= StandardScaler()    \n",
        "upsampled_X_train= st_x.fit_transform(upsampled_X_train)    \n",
        "upsampled_X_dev= st_x.transform(upsampled_X_dev)"
      ],
      "metadata": {
        "id": "2B_YsTo-3gOU"
      },
      "execution_count": 157,
      "outputs": []
    },
    {
      "cell_type": "code",
      "source": [
        "accuracy, f1_score_vals, recall_vals, g_mean = baseline(X_train, y_train, X_dev, y_dev)"
      ],
      "metadata": {
        "colab": {
          "base_uri": "https://localhost:8080/",
          "height": 1000
        },
        "id": "DCSpFC6p3gLd",
        "outputId": "abdf1976-7019-4056-8f2e-d3c8df76d8de"
      },
      "execution_count": 158,
      "outputs": [
        {
          "data": {
            "image/png": "[encoded data removed]",
            "text/plain": [
              "<Figure size 360x360 with 2 Axes>"
            ]
          },
          "metadata": {},
          "output_type": "display_data"
        },
        {
          "metadata": {
            "tags": null
          },
          "name": "stderr",
          "output_type": "stream",
          "text": [
            "/usr/local/lib/python3.8/dist-packages/sklearn/linear_model/_logistic.py:814: ConvergenceWarning: lbfgs failed to converge (status=1):\n",
            "STOP: TOTAL NO. of ITERATIONS REACHED LIMIT.\n",
            "\n",
            "Increase the number of iterations (max_iter) or scale the data as shown in:\n",
            "    https://scikit-learn.org/stable/modules/preprocessing.html\n",
            "Please also refer to the documentation for alternative solver options:\n",
            "    https://scikit-learn.org/stable/modules/linear_model.html#logistic-regression\n",
            "  n_iter_i = _check_optimize_result(\n"
          ]
        },
        {
          "data": {
            "image/png": "[encoded data removed]",
            "text/plain": [
              "<Figure size 360x360 with 2 Axes>"
            ]
          },
          "metadata": {},
          "output_type": "display_data"
        },
        {
          "metadata": {
            "tags": null
          },
          "name": "stderr",
          "output_type": "stream",
          "text": [
            "/usr/local/lib/python3.8/dist-packages/sklearn/svm/_base.py:284: ConvergenceWarning: Solver terminated early (max_iter=100000).  Consider pre-processing your data with StandardScaler or MinMaxScaler.\n",
            "  warnings.warn(\n"
          ]
        },
        {
          "output_type": "display_data",
          "data": {
            "text/plain": [
              "<Figure size 360x360 with 2 Axes>"
            ],
            "image/png": "[encoded data removed]"
          },
          "metadata": {
            "needs_background": "light"
          }
        }
      ]
    },
    {
      "cell_type": "code",
      "source": [
        "upsampled_accuracy, upsampled_f1_score_vals, upsampled_recall_vals, upsampled_g_mean = baseline(upsampled_X_train, upsampled_y_train, upsampled_X_dev, upsampled_y_dev)"
      ],
      "metadata": {
        "id": "IczNEntn3gIU",
        "colab": {
          "base_uri": "https://localhost:8080/",
          "height": 1000
        },
        "outputId": "d4c6bb12-d7e3-42b1-ce05-85ea2ac01bd6"
      },
      "execution_count": 159,
      "outputs": [
        {
          "output_type": "display_data",
          "data": {
            "text/plain": [
              "<Figure size 360x360 with 2 Axes>"
            ],
            "image/png": "[encoded data removed]"
          },
          "metadata": {
            "needs_background": "light"
          }
        },
        {
          "output_type": "display_data",
          "data": {
            "text/plain": [
              "<Figure size 360x360 with 2 Axes>"
            ],
            "image/png": "[encoded data removed]"
          },
          "metadata": {
            "needs_background": "light"
          }
        },
        {
          "output_type": "stream",
          "name": "stderr",
          "text": [
            "/usr/local/lib/python3.8/dist-packages/sklearn/svm/_base.py:284: ConvergenceWarning: Solver terminated early (max_iter=100000).  Consider pre-processing your data with StandardScaler or MinMaxScaler.\n",
            "  warnings.warn(\n"
          ]
        },
        {
          "output_type": "display_data",
          "data": {
            "text/plain": [
              "<Figure size 360x360 with 2 Axes>"
            ],
            "image/png": "[encoded data removed]"
          },
          "metadata": {
            "needs_background": "light"
          }
        }
      ]
    },
    {
      "cell_type": "code",
      "source": [
        "accuracy, f1_score_vals, recall_vals, g_mean"
      ],
      "metadata": {
        "id": "xMDysBywHaL1",
        "colab": {
          "base_uri": "https://localhost:8080/"
        },
        "outputId": "bc043ee2-4a28-4f4a-c2d5-8f4816476e34"
      },
      "execution_count": 160,
      "outputs": [
        {
          "output_type": "execute_result",
          "data": {
            "text/plain": [
              "({'Decision Tree': 0.7925573835090138,\n",
              "  'Logistic Regression': 0.7664269530095557,\n",
              "  'svm': 0.7739385282238204},\n",
              " {'Decision Tree': 0.7473074730747308,\n",
              "  'Logistic Regression': 0.7155368926214757,\n",
              "  'svm': 0.7254837455513354},\n",
              " {'Decision Tree': 0.6103297887979615,\n",
              "  'Logistic Regression': 0.5845053168030577,\n",
              "  'svm': 0.594354878228059},\n",
              " {'Decision Tree': 0.7720730004468119,\n",
              "  'Logistic Regression': 0.7452653292326799,\n",
              "  'svm': 0.7535518289928657})"
            ]
          },
          "metadata": {},
          "execution_count": 160
        }
      ]
    },
    {
      "cell_type": "code",
      "source": [
        "upsampled_accuracy, upsampled_f1_score_vals, upsampled_recall_vals, upsampled_g_mean"
      ],
      "metadata": {
        "id": "kxJzYCDKHeVL",
        "colab": {
          "base_uri": "https://localhost:8080/"
        },
        "outputId": "10e0fd17-23cf-4b5e-b469-d8b84d4e2121"
      },
      "execution_count": 161,
      "outputs": [
        {
          "output_type": "execute_result",
          "data": {
            "text/plain": [
              "({'Decision Tree': 0.9560233918128654,\n",
              "  'Logistic Regression': 0.8771929824561403,\n",
              "  'svm': 0.87953216374269},\n",
              " {'Decision Tree': 0.957752808988764,\n",
              "  'Logistic Regression': 0.8807089297886845,\n",
              "  'svm': 0.8837734145791019},\n",
              " {'Decision Tree': 0.9847504621072088,\n",
              "  'Logistic Regression': 0.8955637707948244,\n",
              "  'svm': 0.9048059149722736},\n",
              " {'Decision Tree': 0.955219996158955,\n",
              "  'Logistic Regression': 0.8767650675878956,\n",
              "  'svm': 0.8788423813221435})"
            ]
          },
          "metadata": {},
          "execution_count": 161
        }
      ]
    },
    {
      "cell_type": "code",
      "source": [
        "import numpy as np\n",
        "import matplotlib.pyplot as plt\n",
        "\n",
        "X = list(accuracy.keys())\n",
        "original_X = accuracy.values()\n",
        "upsampled_X = upsampled_accuracy.values()\n",
        "\n",
        "X_axis = np.arange(len(X))\n",
        "\n",
        "plt.bar(X_axis - 0.2, original_X, 0.4, label = 'Original')\n",
        "plt.bar(X_axis + 0.2, upsampled_X, 0.4, label = 'Upsampled')\n",
        "\n",
        "plt.xticks(X_axis, X)\n",
        "plt.xlabel(\"Models\")\n",
        "plt.ylabel(\"Accuracy\")\n",
        "plt.title(\"Accuracy of original vs upsampled datasets\")\n",
        "plt.legend()\n",
        "plt.show()\n"
      ],
      "metadata": {
        "id": "7tw00P607vn1",
        "colab": {
          "base_uri": "https://localhost:8080/",
          "height": 295
        },
        "outputId": "ee8a1a4a-cc77-45b1-e390-aeb407a1e6f7"
      },
      "execution_count": 162,
      "outputs": [
        {
          "output_type": "display_data",
          "data": {
            "text/plain": [
              "<Figure size 432x288 with 1 Axes>"
            ],
            "image/png": "[encoded data removed]"
          },
          "metadata": {
            "needs_background": "light"
          }
        }
      ]
    },
    {
      "cell_type": "code",
      "source": [
        "import numpy as np\n",
        "import matplotlib.pyplot as plt\n",
        "\n",
        "X = list(f1_score_vals.keys())\n",
        "original_X = f1_score_vals.values()\n",
        "upsampled_X = upsampled_f1_score_vals.values()\n",
        "\n",
        "X_axis = np.arange(len(X))\n",
        "\n",
        "plt.bar(X_axis - 0.2, original_X, 0.4, label = 'Original')\n",
        "plt.bar(X_axis + 0.2, upsampled_X, 0.4, label = 'Upsampled')\n",
        "\n",
        "plt.xticks(X_axis, X)\n",
        "plt.xlabel(\"Models\")\n",
        "plt.ylabel(\"F1 score\")\n",
        "plt.title(\"F1 score of original vs upsampled datasets\")\n",
        "plt.legend()\n",
        "plt.show()\n"
      ],
      "metadata": {
        "id": "ens34hWu9M3z",
        "colab": {
          "base_uri": "https://localhost:8080/",
          "height": 295
        },
        "outputId": "62ac0b92-0cbd-4d72-fdf5-ab581159ce9a"
      },
      "execution_count": 163,
      "outputs": [
        {
          "output_type": "display_data",
          "data": {
            "text/plain": [
              "<Figure size 432x288 with 1 Axes>"
            ],
            "image/png": "[encoded data removed]"
          },
          "metadata": {
            "needs_background": "light"
          }
        }
      ]
    },
    {
      "cell_type": "code",
      "source": [
        "import numpy as np\n",
        "import matplotlib.pyplot as plt\n",
        "\n",
        "X = list(recall_vals.keys())\n",
        "original_X = recall_vals.values()\n",
        "upsampled_X = upsampled_recall_vals.values()\n",
        "\n",
        "X_axis = np.arange(len(X))\n",
        "\n",
        "plt.bar(X_axis - 0.2, original_X, 0.4, label = 'Original')\n",
        "plt.bar(X_axis + 0.2, upsampled_X, 0.4, label = 'Upsampled')\n",
        "\n",
        "plt.xticks(X_axis, X)\n",
        "plt.xlabel(\"Models\")\n",
        "plt.ylabel(\"Recall score\")\n",
        "plt.title(\"Recall score of original vs upsampled datasets\")\n",
        "plt.legend()\n",
        "plt.show()\n"
      ],
      "metadata": {
        "id": "ugiRJ9A3ayNC",
        "colab": {
          "base_uri": "https://localhost:8080/",
          "height": 295
        },
        "outputId": "0ce00fba-4ab1-4f98-c661-e58c0d6616db"
      },
      "execution_count": 164,
      "outputs": [
        {
          "output_type": "display_data",
          "data": {
            "text/plain": [
              "<Figure size 432x288 with 1 Axes>"
            ],
            "image/png": "[encoded data removed]"
          },
          "metadata": {
            "needs_background": "light"
          }
        }
      ]
    },
    {
      "cell_type": "code",
      "source": [
        "import numpy as np\n",
        "import matplotlib.pyplot as plt\n",
        "\n",
        "X = list(g_mean.keys())\n",
        "original_X = g_mean.values()\n",
        "upsampled_X = upsampled_g_mean.values()\n",
        "\n",
        "X_axis = np.arange(len(X))\n",
        "\n",
        "plt.bar(X_axis - 0.2, original_X, 0.4, label = 'Original')\n",
        "plt.bar(X_axis + 0.2, upsampled_X, 0.4, label = 'Upsampled')\n",
        "\n",
        "plt.xticks(X_axis, X)\n",
        "plt.xlabel(\"Models\")\n",
        "plt.ylabel(\"G-Mean score\")\n",
        "plt.title(\"G-Mean score of original vs upsampled datasets\")\n",
        "plt.legend()\n",
        "plt.show()\n"
      ],
      "metadata": {
        "colab": {
          "base_uri": "https://localhost:8080/",
          "height": 295
        },
        "id": "d3PNQ7caGFF0",
        "outputId": "066621cf-e09f-428f-a9ec-158a5bf39f89"
      },
      "execution_count": 165,
      "outputs": [
        {
          "output_type": "display_data",
          "data": {
            "text/plain": [
              "<Figure size 432x288 with 1 Axes>"
            ],
            "image/png": "[encoded data removed]"
          },
          "metadata": {
            "needs_background": "light"
          }
        }
      ]
    },
    {
      "cell_type": "code",
      "source": [
        "u_X_train = upsampled_X_train\n",
        "u_y_train = upsampled_y_train\n",
        "u_X_dev = upsampled_X_dev\n",
        "u_y_dev = upsampled_y_dev"
      ],
      "metadata": {
        "id": "Vi9WnLtICdK0"
      },
      "execution_count": 166,
      "outputs": []
    },
    {
      "cell_type": "markdown",
      "metadata": {
        "id": "5ZUizReXzUUM"
      },
      "source": [
        "## Dimensionality reduction"
      ]
    },
    {
      "cell_type": "markdown",
      "metadata": {
        "id": "DOAEdrp3zUUN"
      },
      "source": [
        "###  Using PCA"
      ]
    },
    {
      "cell_type": "code",
      "execution_count": null,
      "metadata": {
        "id": "NdK_LgsVzUUN"
      },
      "outputs": [],
      "source": [
        "from sklearn.decomposition import PCA\n",
        "from sklearn.tree import DecisionTreeClassifier\n",
        "from sklearn.metrics import f1_score\n",
        "# from sklearn.preprocessing import train_test_split\n",
        "acc_dict_pca={}\n",
        "for n_components in range(2,50,10):\n",
        "    pca = PCA(n_components=n_components)\n",
        "    X_train_pca = pca.fit_transform(upsampled_train_df_X)\n",
        "    X_test_pca = pca.fit_transform(upsampled_X_dev)\n",
        "    DST_PCA_model = DecisionTreeClassifier()\n",
        "    DST_PCA_model.fit(X_train_pca,upsampled_train_df_y)\n",
        "    y_predicted_pca = DST_PCA_model.predict(X_test_pca)\n",
        "    acc_pca = f1_score(upsampled_y_dev,y_predicted_pca)\n",
        "    acc_dict_pca[n_components]=acc_pca*100"
      ]
    },
    {
      "cell_type": "code",
      "execution_count": null,
      "metadata": {
        "id": "YxnsUwWAzUUN"
      },
      "outputs": [],
      "source": [
        "plt.plot(*zip(*sorted(acc_dict_pca.items())))\n",
        "Title = \"PCA Method to reduce feature dimension\"\n",
        "plt.title(Title, fontsize=16)\n",
        "plt.xlabel(\"Number of Components\")\n",
        "plt.ylabel(\"Accuracy (%)\")"
      ]
    },
    {
      "cell_type": "code",
      "execution_count": null,
      "metadata": {
        "id": "2ybq3YETzUUN"
      },
      "outputs": [],
      "source": [
        "print('for n_components of PCA =',max(acc_dict_pca,key=acc_dict_pca.get), 'we get the maximum accuracy with our baseline model')"
      ]
    },
    {
      "cell_type": "markdown",
      "metadata": {
        "id": "_VuwixUQzUUO"
      },
      "source": [
        "### Using Autoencoder"
      ]
    },
    {
      "cell_type": "code",
      "execution_count": 100,
      "metadata": {
        "id": "MPDfR99jzUUO"
      },
      "outputs": [],
      "source": [
        "from sklearn.neural_network import MLPRegressor\n",
        "import numpy as np\n",
        "def encoder(encoder_weights, encoder_biases, data):\n",
        "    res_ae = data\n",
        "    for index, (w, b) in enumerate(zip(encoder_weights, encoder_biases)):\n",
        "        if index+1 == len(encoder_weights):\n",
        "            res_ae = res_ae@w+b \n",
        "        else:\n",
        "            res_ae = np.maximum(0, res_ae@w+b)\n",
        "    return res_ae"
      ]
    },
    {
      "cell_type": "code",
      "execution_count": 101,
      "metadata": {
        "id": "2R-TKIoMzUUO",
        "colab": {
          "base_uri": "https://localhost:8080/"
        },
        "outputId": "1f561d43-5437-48f0-fd18-bba68d8c0027"
      },
      "outputs": [
        {
          "output_type": "stream",
          "name": "stdout",
          "text": [
            "0.9418012834697942 for 2 features\n"
          ]
        },
        {
          "output_type": "stream",
          "name": "stderr",
          "text": [
            "/usr/local/lib/python3.8/dist-packages/sklearn/neural_network/_multilayer_perceptron.py:699: UserWarning: Training interrupted by user.\n",
            "  warnings.warn(\"Training interrupted by user.\")\n"
          ]
        },
        {
          "output_type": "stream",
          "name": "stdout",
          "text": [
            "0.9464046449307726 for 12 features\n"
          ]
        },
        {
          "output_type": "stream",
          "name": "stderr",
          "text": [
            "/usr/local/lib/python3.8/dist-packages/sklearn/neural_network/_multilayer_perceptron.py:699: UserWarning: Training interrupted by user.\n",
            "  warnings.warn(\"Training interrupted by user.\")\n"
          ]
        },
        {
          "output_type": "stream",
          "name": "stdout",
          "text": [
            "0.9433962264150944 for 22 features\n"
          ]
        },
        {
          "output_type": "stream",
          "name": "stderr",
          "text": [
            "/usr/local/lib/python3.8/dist-packages/sklearn/neural_network/_multilayer_perceptron.py:699: UserWarning: Training interrupted by user.\n",
            "  warnings.warn(\"Training interrupted by user.\")\n"
          ]
        },
        {
          "output_type": "stream",
          "name": "stdout",
          "text": [
            "0.9472277889111557 for 32 features\n"
          ]
        },
        {
          "output_type": "stream",
          "name": "stderr",
          "text": [
            "/usr/local/lib/python3.8/dist-packages/sklearn/neural_network/_multilayer_perceptron.py:699: UserWarning: Training interrupted by user.\n",
            "  warnings.warn(\"Training interrupted by user.\")\n"
          ]
        },
        {
          "output_type": "stream",
          "name": "stdout",
          "text": [
            "0.9497879937513949 for 42 features\n"
          ]
        }
      ],
      "source": [
        "from sklearn.neural_network import MLPRegressor\n",
        "import numpy as np\n",
        "acc_dict_ae={}\n",
        "for iteration in range(2,50,10):\n",
        "    autoencoder = MLPRegressor(alpha=1e-15, \n",
        "                            hidden_layer_sizes=(50, 100, 50, iteration, 50, 100, 50), \n",
        "                            random_state=1, max_iter=20000)\n",
        "\n",
        "    autoencoder.fit(u_X_train, u_X_train)\n",
        "\n",
        "    W = autoencoder.coefs_\n",
        "    biases = autoencoder.intercepts_\n",
        "    encoder_weights = W[0:4]\n",
        "    encoder_biases = biases[0:4]\n",
        "    res_ae_train = encoder(encoder_weights, encoder_biases, u_X_train)\n",
        "    res_ae_test = encoder(encoder_weights, encoder_biases, u_X_dev)\n",
        "    DST_AE_Model = DecisionTreeClassifier()\n",
        "    DST_AE_Model.fit(res_ae_train,u_y_train)\n",
        "    y_predicted_ae = DST_AE_Model.predict(res_ae_test)\n",
        "    print(f1_score(u_y_dev,y_predicted_ae),'for',iteration,'features')\n",
        "    acc_ae = f1_score(u_y_dev,y_predicted_ae)*100\n",
        "    acc_dict_ae[iteration]=acc_ae\n"
      ]
    },
    {
      "cell_type": "code",
      "execution_count": null,
      "metadata": {
        "id": "OigDmmUrzUUO"
      },
      "outputs": [],
      "source": [
        "plt.plot(*zip(*sorted(acc_dict_ae.items())))\n",
        "Title = \"AE Method to reduce feature dimension\"\n",
        "plt.title(Title, fontsize=16)\n",
        "plt.xlabel(\"Number of Components\")\n",
        "plt.ylabel(\"Accuracy (%)\")"
      ]
    },
    {
      "cell_type": "code",
      "execution_count": null,
      "metadata": {
        "id": "XFLbzaJozUUO"
      },
      "outputs": [],
      "source": [
        "print('for minimum hidden layer of Autoencoder =',max(acc_dict_ae,key=acc_dict_ae.get), 'we get the maximum accuracy with our baseline model')"
      ]
    },
    {
      "cell_type": "code",
      "execution_count": null,
      "metadata": {
        "id": "S88WDuqvzUUP"
      },
      "outputs": [],
      "source": [
        "plt.plot(*zip(*sorted(acc_dict_pca.items())),label='PCA accuracy')\n",
        "plt.plot(*zip(*sorted(acc_dict_ae.items())),label='AE accuracy')\n",
        "\n",
        "plt.title('Accuracy of baseline vs PCA vs Autoencoder', fontsize=16)\n",
        "plt.legend()\n",
        "plt.xlabel(\"Number of Components\", )\n",
        "plt.ylabel(\"Accuracy (%)\", )"
      ]
    },
    {
      "cell_type": "markdown",
      "metadata": {
        "id": "Vgu_7TyezUUP"
      },
      "source": [
        "the best accuracy we got from dimentionality reduction was from Autoencoder with 9 features   \n",
        "else the best accuracy as fas was provided by baseline DST"
      ]
    },
    {
      "cell_type": "code",
      "source": [],
      "metadata": {
        "id": "x4cPwyhMsBAN"
      },
      "execution_count": null,
      "outputs": []
    },
    {
      "cell_type": "markdown",
      "source": [
        "Using 12 best features to get the transformed dataset as justified above:"
      ],
      "metadata": {
        "id": "8PgbUK2SKuvI"
      }
    },
    {
      "cell_type": "code",
      "source": [
        "autoencoder = MLPRegressor(alpha=1e-15, \n",
        "                        hidden_layer_sizes=(50, 100, 50, 12, 50, 100, 50), \n",
        "                        random_state=1, max_iter=20000)\n",
        "\n",
        "autoencoder.fit(u_X_train, u_X_train)\n",
        "\n",
        "W = autoencoder.coefs_\n",
        "biases = autoencoder.intercepts_\n",
        "encoder_weights = W[0:4]\n",
        "encoder_biases = biases[0:4]\n",
        "res_ae_train = encoder(encoder_weights, encoder_biases, u_X_train)\n",
        "res_ae_test = encoder(encoder_weights, encoder_biases, u_X_dev)"
      ],
      "metadata": {
        "id": "YNwj_ogDKSjr"
      },
      "execution_count": 102,
      "outputs": []
    },
    {
      "cell_type": "code",
      "source": [
        "tsne_plot(res_ae_train, u_y_train)"
      ],
      "metadata": {
        "colab": {
          "base_uri": "https://localhost:8080/",
          "height": 634
        },
        "id": "ukoTGoiksB51",
        "outputId": "05a46e9d-3d6f-4e5a-ca3d-68c1a0cb2ac1"
      },
      "execution_count": null,
      "outputs": [
        {
          "output_type": "stream",
          "name": "stderr",
          "text": [
            "/usr/local/lib/python3.7/dist-packages/sklearn/manifold/_t_sne.py:783: FutureWarning: The default initialization in TSNE will change from 'random' to 'pca' in 1.2.\n",
            "  FutureWarning,\n",
            "/usr/local/lib/python3.7/dist-packages/sklearn/manifold/_t_sne.py:793: FutureWarning: The default learning rate in TSNE will change from 200.0 to 'auto' in 1.2.\n",
            "  FutureWarning,\n"
          ]
        },
        {
          "output_type": "stream",
          "name": "stdout",
          "text": [
            "[t-SNE] Computing 91 nearest neighbors...\n",
            "[t-SNE] Indexed 8679 samples in 0.031s...\n",
            "[t-SNE] Computed neighbors for 8679 samples in 1.086s...\n",
            "[t-SNE] Computed conditional probabilities for sample 1000 / 8679\n",
            "[t-SNE] Computed conditional probabilities for sample 2000 / 8679\n",
            "[t-SNE] Computed conditional probabilities for sample 3000 / 8679\n",
            "[t-SNE] Computed conditional probabilities for sample 4000 / 8679\n",
            "[t-SNE] Computed conditional probabilities for sample 5000 / 8679\n",
            "[t-SNE] Computed conditional probabilities for sample 6000 / 8679\n",
            "[t-SNE] Computed conditional probabilities for sample 7000 / 8679\n",
            "[t-SNE] Computed conditional probabilities for sample 8000 / 8679\n",
            "[t-SNE] Computed conditional probabilities for sample 8679 / 8679\n",
            "[t-SNE] Mean sigma: 0.972613\n",
            "[t-SNE] KL divergence after 250 iterations with early exaggeration: 69.703636\n",
            "[t-SNE] KL divergence after 1000 iterations: 0.790855\n"
          ]
        },
        {
          "output_type": "display_data",
          "data": {
            "text/plain": [
              "<Figure size 432x288 with 1 Axes>"
            ],
            "image/png": "[encoded data removed]"
          },
          "metadata": {
            "needs_background": "light"
          }
        }
      ]
    },
    {
      "cell_type": "markdown",
      "source": [
        "# Ensemble Model"
      ],
      "metadata": {
        "id": "5h7amYuoixZe"
      }
    },
    {
      "cell_type": "code",
      "source": [
        "dst = DecisionTreeClassifier(random_state=seed_value)\n",
        "lr = LogisticRegression(random_state=seed_value)\n",
        "svm = SVC(kernel='linear', max_iter=1000000, probability=True)\n",
        "\n",
        "ensemble = VotingClassifier(estimators=[\n",
        "        ('dst', dst), ('lr', lr), ('svm', svm)], voting='soft', weights=[3,2,1])\n",
        "\n",
        "ensemble = ensemble.fit(res_ae_train, u_y_train)\n",
        "\n",
        "y_pred_ens = ensemble.predict(res_ae_test)\n"
      ],
      "metadata": {
        "id": "scwLhA6ImfhO",
        "colab": {
          "base_uri": "https://localhost:8080/"
        },
        "outputId": "b8521e5d-0f1d-4a73-e148-254d0e8a2a46"
      },
      "execution_count": 191,
      "outputs": [
        {
          "output_type": "stream",
          "name": "stderr",
          "text": [
            "/usr/local/lib/python3.8/dist-packages/sklearn/svm/_base.py:284: ConvergenceWarning: Solver terminated early (max_iter=1000000).  Consider pre-processing your data with StandardScaler or MinMaxScaler.\n",
            "  warnings.warn(\n"
          ]
        }
      ]
    },
    {
      "cell_type": "code",
      "source": [
        "print(f'f1 score: {f1_score(u_y_dev, y_pred_ens)}')\n",
        "print(f'Recall score: {recall_score(u_y_dev, y_pred_ens)}')\n",
        "print(f'Accuracy score: {accuracy_score(u_y_dev, y_pred_ens)}')\n",
        "print(f'G Mean score: {geometric_mean_score(u_y_dev, y_pred_ens)}')\n",
        "\n",
        "conf_mat = confusion_matrix(u_y_dev, y_pred_ens)\n",
        "f, ax = plt.subplots(figsize=(5,5))\n",
        "sns.heatmap(conf_mat,annot=True,linewidths=0.5,linecolor=\"red\",fmt=\".0f\",ax=ax)\n",
        "plt.xlabel(\"Predicted Values\")\n",
        "plt.ylabel(\"True Values\")\n",
        "plt.show()"
      ],
      "metadata": {
        "colab": {
          "base_uri": "https://localhost:8080/",
          "height": 405
        },
        "id": "SHugqdFnvRBE",
        "outputId": "5e20e340-3092-4e58-cf75-17893a401215"
      },
      "execution_count": 192,
      "outputs": [
        {
          "output_type": "stream",
          "name": "stdout",
          "text": [
            "f1 score: 0.9412553048916685\n",
            "Recall score: 0.9736598890942699\n",
            "Accuracy score: 0.9384795321637427\n",
            "G Mean score: 0.9373612864312962\n"
          ]
        },
        {
          "output_type": "display_data",
          "data": {
            "text/plain": [
              "<Figure size 360x360 with 2 Axes>"
            ],
            "image/png": "[encoded data removed]"
          },
          "metadata": {
            "needs_background": "light"
          }
        }
      ]
    },
    {
      "cell_type": "markdown",
      "source": [
        "# Calculating Kappa score on test set"
      ],
      "metadata": {
        "id": "Bndre3mglLkq"
      }
    },
    {
      "cell_type": "code",
      "source": [
        "dst = DecisionTreeClassifier(random_state=seed_value)\n",
        "lr = LogisticRegression(random_state=seed_value)\n",
        "svm = SVC(kernel='linear', max_iter=100000, probability=True)\n",
        "ensemble = VotingClassifier(estimators=[\n",
        "        ('dst', dst), ('lr', lr), ('svm', svm)], voting='soft', weights=[3,2,1])"
      ],
      "metadata": {
        "id": "jBJ7jeLykysS"
      },
      "execution_count": 184,
      "outputs": []
    },
    {
      "cell_type": "code",
      "source": [
        "st_x= StandardScaler()    \n",
        "upsampled_train_df_X= st_x.fit_transform(upsampled_train_df_X)    \n",
        "scaled_test_df = st_x.transform(test_df)"
      ],
      "metadata": {
        "id": "r226uTu0llV8"
      },
      "execution_count": 185,
      "outputs": []
    },
    {
      "cell_type": "code",
      "source": [
        "res_ae_train_full = encoder(encoder_weights, encoder_biases, upsampled_train_df_X)\n",
        "res_ae_test_full = encoder(encoder_weights, encoder_biases, scaled_test_df)"
      ],
      "metadata": {
        "id": "jANaV-r2t6bS"
      },
      "execution_count": 186,
      "outputs": []
    },
    {
      "cell_type": "code",
      "source": [
        "svm.fit(res_ae_train_full, upsampled_train_df_y)\n",
        "lr.fit(res_ae_train_full, upsampled_train_df_y)\n",
        "dst.fit(res_ae_train_full, upsampled_train_df_y)\n",
        "ensemble = ensemble.fit(res_ae_train_full, upsampled_train_df_y)"
      ],
      "metadata": {
        "colab": {
          "base_uri": "https://localhost:8080/"
        },
        "id": "gT4SyIp6lV1d",
        "outputId": "a7da76d6-96ea-4551-af9d-3d8c965ce734"
      },
      "execution_count": 187,
      "outputs": [
        {
          "output_type": "stream",
          "name": "stderr",
          "text": [
            "/usr/local/lib/python3.8/dist-packages/sklearn/svm/_base.py:284: ConvergenceWarning: Solver terminated early (max_iter=100000).  Consider pre-processing your data with StandardScaler or MinMaxScaler.\n",
            "  warnings.warn(\n",
            "/usr/local/lib/python3.8/dist-packages/sklearn/svm/_base.py:284: ConvergenceWarning: Solver terminated early (max_iter=100000).  Consider pre-processing your data with StandardScaler or MinMaxScaler.\n",
            "  warnings.warn(\n"
          ]
        }
      ]
    },
    {
      "cell_type": "code",
      "source": [],
      "metadata": {
        "id": "XdC3lHPvmIVb"
      },
      "execution_count": 187,
      "outputs": []
    },
    {
      "cell_type": "code",
      "source": [
        "test_pred_svm = svm.predict(res_ae_test_full)\n",
        "test_pred_lr = lr.predict(res_ae_test_full)\n",
        "test_pred_dst = dst.predict(res_ae_test_full)\n",
        "test_pred_ens = ensemble.predict(res_ae_test_full)"
      ],
      "metadata": {
        "id": "geIuonsfl2dw"
      },
      "execution_count": 188,
      "outputs": []
    },
    {
      "cell_type": "code",
      "source": [
        "kappa_scores = {}\n",
        "kappa_scores['dst_ensemble'] = cohen_kappa_score(test_pred_ens, test_pred_dst)\n",
        "kappa_scores['lr_ensemble'] = cohen_kappa_score(test_pred_ens, test_pred_lr)\n",
        "kappa_scores['svm_ensemble'] = cohen_kappa_score(test_pred_ens, test_pred_svm)\n"
      ],
      "metadata": {
        "id": "SE64KAQToZaR"
      },
      "execution_count": 189,
      "outputs": []
    },
    {
      "cell_type": "code",
      "source": [
        "kappa_scores"
      ],
      "metadata": {
        "colab": {
          "base_uri": "https://localhost:8080/"
        },
        "id": "JRWylnnTm9Mi",
        "outputId": "f1de4877-4b3b-4ad4-a4b1-7d2b7c4f655d"
      },
      "execution_count": 190,
      "outputs": [
        {
          "output_type": "execute_result",
          "data": {
            "text/plain": [
              "{'dst_ensemble': 0.9990121790716903,\n",
              " 'lr_ensemble': 0.7686426396119075,\n",
              " 'svm_ensemble': -0.06600382079747957}"
            ]
          },
          "metadata": {},
          "execution_count": 190
        }
      ]
    },
    {
      "cell_type": "markdown",
      "source": [
        "# Cross-validation of models"
      ],
      "metadata": {
        "id": "EWH6eEYJNjvg"
      }
    },
    {
      "cell_type": "code",
      "source": [
        "dst = DecisionTreeClassifier(random_state=seed_value)\n",
        "lr = LogisticRegression(random_state=seed_value)\n",
        "svm = SVC(kernel='linear', max_iter=100000, probability=True)\n",
        "ensemble = VotingClassifier(estimators=[\n",
        "        ('dst', dst), ('lr', lr), ('svm', svm)], voting='soft', weights=[3,2,1])"
      ],
      "metadata": {
        "id": "VSI_UXGVNqp-"
      },
      "execution_count": null,
      "outputs": []
    },
    {
      "cell_type": "code",
      "source": [
        "from sklearn.model_selection import cross_validate\n",
        "from sklearn.metrics import make_scorer\n",
        "\n",
        "scorings = {'f1': make_scorer(f1_score), 'accuracy': make_scorer(accuracy_score), \n",
        "            'recall': make_scorer(recall_score), 'g_mean': make_scorer(geometric_mean_score)}\n",
        "\n",
        "results = {}\n",
        "results['dst'] = cross_validate(dst, res_ae_train, u_y_train, cv=5, scoring=scorings)\n",
        "results['lr'] = cross_validate(lr, res_ae_train, u_y_train, cv=5, scoring=scorings)\n",
        "results['svm'] = cross_validate(svm, res_ae_train, u_y_train, cv=5, scoring=scorings)\n",
        "results['ens'] = cross_validate(ensemble, res_ae_train, u_y_train, cv=5, scoring=scorings)"
      ],
      "metadata": {
        "colab": {
          "base_uri": "https://localhost:8080/"
        },
        "id": "Ec1vsVbuNmq0",
        "outputId": "c349897d-c2fc-42e3-84cb-6b5e7d317291"
      },
      "execution_count": 175,
      "outputs": [
        {
          "output_type": "stream",
          "name": "stderr",
          "text": [
            "/usr/local/lib/python3.8/dist-packages/sklearn/svm/_base.py:284: ConvergenceWarning: Solver terminated early (max_iter=100000).  Consider pre-processing your data with StandardScaler or MinMaxScaler.\n",
            "  warnings.warn(\n",
            "/usr/local/lib/python3.8/dist-packages/sklearn/svm/_base.py:284: ConvergenceWarning: Solver terminated early (max_iter=100000).  Consider pre-processing your data with StandardScaler or MinMaxScaler.\n",
            "  warnings.warn(\n",
            "/usr/local/lib/python3.8/dist-packages/sklearn/svm/_base.py:284: ConvergenceWarning: Solver terminated early (max_iter=100000).  Consider pre-processing your data with StandardScaler or MinMaxScaler.\n",
            "  warnings.warn(\n",
            "/usr/local/lib/python3.8/dist-packages/sklearn/svm/_base.py:284: ConvergenceWarning: Solver terminated early (max_iter=100000).  Consider pre-processing your data with StandardScaler or MinMaxScaler.\n",
            "  warnings.warn(\n",
            "/usr/local/lib/python3.8/dist-packages/sklearn/svm/_base.py:284: ConvergenceWarning: Solver terminated early (max_iter=100000).  Consider pre-processing your data with StandardScaler or MinMaxScaler.\n",
            "  warnings.warn(\n",
            "/usr/local/lib/python3.8/dist-packages/sklearn/svm/_base.py:284: ConvergenceWarning: Solver terminated early (max_iter=100000).  Consider pre-processing your data with StandardScaler or MinMaxScaler.\n",
            "  warnings.warn(\n",
            "/usr/local/lib/python3.8/dist-packages/sklearn/svm/_base.py:284: ConvergenceWarning: Solver terminated early (max_iter=100000).  Consider pre-processing your data with StandardScaler or MinMaxScaler.\n",
            "  warnings.warn(\n",
            "/usr/local/lib/python3.8/dist-packages/sklearn/svm/_base.py:284: ConvergenceWarning: Solver terminated early (max_iter=100000).  Consider pre-processing your data with StandardScaler or MinMaxScaler.\n",
            "  warnings.warn(\n",
            "/usr/local/lib/python3.8/dist-packages/sklearn/svm/_base.py:284: ConvergenceWarning: Solver terminated early (max_iter=100000).  Consider pre-processing your data with StandardScaler or MinMaxScaler.\n",
            "  warnings.warn(\n",
            "/usr/local/lib/python3.8/dist-packages/sklearn/svm/_base.py:284: ConvergenceWarning: Solver terminated early (max_iter=100000).  Consider pre-processing your data with StandardScaler or MinMaxScaler.\n",
            "  warnings.warn(\n"
          ]
        }
      ]
    },
    {
      "cell_type": "code",
      "source": [
        "x = range(1, 6)\n",
        "fig = plt.figure()\n",
        "ax1 = fig.add_subplot(111)\n",
        "\n",
        "ax1.scatter(x, results['dst']['test_accuracy'], c='b', label='Decision Tree')\n",
        "ax1.scatter(x, results['lr']['test_accuracy'], c='r', label='Logistic Regression')\n",
        "ax1.scatter(x, results['svm']['test_accuracy'], c='g', label='SVM')\n",
        "ax1.scatter(x, results['ens']['test_accuracy'], c='c', label='Ensemble')\n",
        "ax.legend('Accuracy')\n",
        "ax.grid(True)\n",
        "plt.xlabel(\"Folds\")\n",
        "plt.ylabel(\"Accuracy score\")\n",
        "plt.title(\"Cross-validated Accuracy Comparison\")\n",
        "plt.legend()\n",
        "\n",
        "plt.show()"
      ],
      "metadata": {
        "colab": {
          "base_uri": "https://localhost:8080/",
          "height": 295
        },
        "id": "2eO5uTGBWoQZ",
        "outputId": "313119c1-f1ce-449f-94bb-e5cd00daa7ba"
      },
      "execution_count": 176,
      "outputs": [
        {
          "output_type": "display_data",
          "data": {
            "text/plain": [
              "<Figure size 432x288 with 1 Axes>"
            ],
            "image/png": "[encoded data removed]"
          },
          "metadata": {
            "needs_background": "light"
          }
        }
      ]
    },
    {
      "cell_type": "code",
      "source": [
        "x = range(1, 6)\n",
        "fig = plt.figure()\n",
        "ax1 = fig.add_subplot(111)\n",
        "\n",
        "ax1.scatter(x, results['dst']['test_f1'], c='b', label='Decision Tree')\n",
        "ax1.scatter(x, results['lr']['test_f1'], c='r', label='Logistic Regression')\n",
        "ax1.scatter(x, results['svm']['test_f1'], c='g', label='SVM')\n",
        "ax1.scatter(x, results['ens']['test_f1'], c='c', label='Ensemble')\n",
        "ax.grid(True)\n",
        "plt.xlabel(\"Folds\")\n",
        "plt.ylabel(\"F1 score\")\n",
        "plt.title(\"Cross-validated F1 Comparison\")\n",
        "plt.legend()\n",
        "\n",
        "plt.show()"
      ],
      "metadata": {
        "colab": {
          "base_uri": "https://localhost:8080/",
          "height": 295
        },
        "id": "G_wsxFdiYXP3",
        "outputId": "729d4f75-23b4-41f7-9a1c-db0dce9b18f8"
      },
      "execution_count": 177,
      "outputs": [
        {
          "output_type": "display_data",
          "data": {
            "text/plain": [
              "<Figure size 432x288 with 1 Axes>"
            ],
            "image/png": "[encoded data removed]"
          },
          "metadata": {
            "needs_background": "light"
          }
        }
      ]
    },
    {
      "cell_type": "code",
      "source": [
        "x = range(1, 6)\n",
        "fig = plt.figure()\n",
        "ax1 = fig.add_subplot(111)\n",
        "\n",
        "ax1.scatter(x, results['dst']['test_recall'], c='b', label='Decision Tree')\n",
        "ax1.scatter(x, results['lr']['test_recall'], c='r', label='Logistic Regression')\n",
        "ax1.scatter(x, results['svm']['test_recall'], c='g', label='SVM')\n",
        "ax1.scatter(x, results['ens']['test_recall'], c='c', label='Ensemble')\n",
        "ax.grid(True)\n",
        "plt.xlabel(\"Folds\")\n",
        "plt.ylabel(\"Recall score\")\n",
        "plt.title(\"Cross-validated Recall Comparison\")\n",
        "plt.legend()\n",
        "\n",
        "plt.show()"
      ],
      "metadata": {
        "colab": {
          "base_uri": "https://localhost:8080/",
          "height": 295
        },
        "outputId": "a01fb905-b6d1-40c8-a89e-15cf7a7edbae",
        "id": "XWZZ2rPXZG-5"
      },
      "execution_count": 178,
      "outputs": [
        {
          "output_type": "display_data",
          "data": {
            "text/plain": [
              "<Figure size 432x288 with 1 Axes>"
            ],
            "image/png": "[encoded data removed]"
          },
          "metadata": {
            "needs_background": "light"
          }
        }
      ]
    },
    {
      "cell_type": "code",
      "source": [
        "x = range(1, 6)\n",
        "fig = plt.figure()\n",
        "ax1 = fig.add_subplot(111)\n",
        "\n",
        "ax1.scatter(x, results['dst']['test_g_mean'], c='b', label='Decision Tree')\n",
        "ax1.scatter(x, results['lr']['test_g_mean'], c='r', label='Logistic Regression')\n",
        "ax1.scatter(x, results['svm']['test_g_mean'], c='g', label='SVM')\n",
        "ax1.scatter(x, results['ens']['test_g_mean'], c='c', label='Ensemble')\n",
        "ax.grid(True)\n",
        "plt.xlabel(\"Folds\")\n",
        "plt.ylabel(\"G-Mean score\")\n",
        "plt.title(\"Cross-validated G-Mean Comparison\")\n",
        "plt.legend()\n",
        "\n",
        "plt.show()"
      ],
      "metadata": {
        "colab": {
          "base_uri": "https://localhost:8080/",
          "height": 295
        },
        "outputId": "38371f88-b53e-499a-9850-bc9f8bd7aa75",
        "id": "OEkgblF3ZQ7s"
      },
      "execution_count": 179,
      "outputs": [
        {
          "output_type": "display_data",
          "data": {
            "text/plain": [
              "<Figure size 432x288 with 1 Axes>"
            ],
            "image/png": "[encoded data removed]"
          },
          "metadata": {
            "needs_background": "light"
          }
        }
      ]
    },
    {
      "cell_type": "code",
      "source": [
        "x = range(1, 6)\n",
        "fig = plt.figure()\n",
        "ax1 = fig.add_subplot(111)\n",
        "\n",
        "ax1.scatter(x, results['dst']['fit_time'], c='b', label='Decision Tree')\n",
        "ax1.scatter(x, results['lr']['fit_time'], c='r', label='Logistic Regression')\n",
        "ax1.scatter(x, results['svm']['fit_time'], c='g', label='SVM')\n",
        "ax1.scatter(x, results['ens']['fit_time'], c='c', label='Ensemble')\n",
        "ax.grid(True)\n",
        "plt.xlabel(\"Folds\")\n",
        "plt.ylabel(\"Fit Time\")\n",
        "plt.title(\"Cross-validated Fit Time Comparison\")\n",
        "plt.legend()\n",
        "\n",
        "plt.show()"
      ],
      "metadata": {
        "colab": {
          "base_uri": "https://localhost:8080/",
          "height": 295
        },
        "outputId": "53820c72-9076-458f-d72c-64e61f4a9c5f",
        "id": "Kl4bO4O_ZpJy"
      },
      "execution_count": 180,
      "outputs": [
        {
          "output_type": "display_data",
          "data": {
            "text/plain": [
              "<Figure size 432x288 with 1 Axes>"
            ],
            "image/png": "[encoded data removed]"
          },
          "metadata": {
            "needs_background": "light"
          }
        }
      ]
    },
    {
      "cell_type": "markdown",
      "source": [
        "# Our previous (Depricated) work"
      ],
      "metadata": {
        "id": "qrveJCXTYSkJ"
      }
    },
    {
      "cell_type": "markdown",
      "source": [
        "## Feature Selection"
      ],
      "metadata": {
        "id": "6k0nOT3tmcyw"
      }
    },
    {
      "cell_type": "markdown",
      "source": [
        "Now we have split the words vector mean into 100 different columns, our next objective will be to evaluate the features and find the correlation"
      ],
      "metadata": {
        "id": "-YBcTK1yp9Aw"
      }
    },
    {
      "cell_type": "code",
      "source": [
        "xdf = pd.DataFrame(X)"
      ],
      "metadata": {
        "id": "YJXobaDZpoey"
      },
      "execution_count": null,
      "outputs": []
    },
    {
      "cell_type": "code",
      "source": [
        "ydf=pd.DataFrame(Y) "
      ],
      "metadata": {
        "id": "NZZLsm1QLGQ3"
      },
      "execution_count": null,
      "outputs": []
    },
    {
      "cell_type": "code",
      "source": [
        "new_x=pd.concat([xdf,ydf],axis=1)"
      ],
      "metadata": {
        "id": "HOg8Qsx-5F22"
      },
      "execution_count": null,
      "outputs": []
    },
    {
      "cell_type": "code",
      "source": [
        "new_x"
      ],
      "metadata": {
        "id": "bpgJz7k55OGc"
      },
      "execution_count": null,
      "outputs": []
    },
    {
      "cell_type": "code",
      "source": [
        "xdf_null = new_x.drop_duplicates()\n",
        "xdf_null"
      ],
      "metadata": {
        "id": "cH8CttZ15OA8"
      },
      "execution_count": null,
      "outputs": []
    },
    {
      "cell_type": "code",
      "source": [
        "y = xdf_null[\"label\"]\n",
        "y"
      ],
      "metadata": {
        "id": "xGtTPl0GnxxG"
      },
      "execution_count": null,
      "outputs": []
    },
    {
      "cell_type": "code",
      "source": [
        "xdf_null.drop(columns = ['label'], inplace=True)\n",
        "xdf_null"
      ],
      "metadata": {
        "id": "J7k9-8Q-qDDB"
      },
      "execution_count": null,
      "outputs": []
    },
    {
      "cell_type": "code",
      "source": [
        "from sklearn.feature_selection import SelectKBest, mutual_info_regression\n",
        "\n",
        "#Selecting best features based on mutual Info Reg.\n",
        "selector = SelectKBest(mutual_info_regression, k =70)\n",
        "selector.fit(xdf_null, y)\n",
        "xdf_null.columns[selector.get_support()]"
      ],
      "metadata": {
        "id": "KCPHfwMYqDA2"
      },
      "execution_count": null,
      "outputs": []
    },
    {
      "cell_type": "code",
      "source": [
        "#RFE for feature selection\n",
        "from sklearn.feature_selection import RFE\n",
        "from sklearn.linear_model import LogisticRegression\n",
        "\n",
        "#Selecting the best features based on Logistic Reg.\n",
        "rfe_selector = RFE(estimator=LogisticRegression(),n_features_to_select = 70, step = 70)\n",
        "rfe_selector.fit(xdf_null, y)\n",
        "xdf_null.columns[rfe_selector.get_support()]"
      ],
      "metadata": {
        "id": "tiIWeZliqC-f"
      },
      "execution_count": null,
      "outputs": []
    },
    {
      "cell_type": "code",
      "source": [
        "selcetk = [ 0,   1,   2,   3,   4,   6,   8,   9,  10,  11,  12,  13,  14,  16,\n",
        "        17,  18,  19,  20,  21,  22,  24,  25,  26,  27,  28,  29,  32,  33,\n",
        "        34,  35,  37,  38,  40,  41,  44,  45,  46,  49,  50,  52,  54,  55,\n",
        "        57,  58,  59,  62,  63,  64,  66,  67,  69,  71,  72,  74,  77,  78,\n",
        "        79,  80,  82,  83,  84,  87,  90,  91,  92,  93,  94,  96,  98, 100]\n",
        "rfe = [0,  2,  3,  4,  5,  6,  7,  9, 10, 11, 12, 13, 14, 15, 17, 21, 23, 24,\n",
        "       26, 28, 29, 31, 32, 33, 35, 40, 41, 42, 43, 45, 46, 47, 48, 49, 50, 51,\n",
        "       52, 54, 55, 56, 57, 59, 60, 61, 62, 64, 65, 67, 68, 69, 71, 72, 73, 75,\n",
        "       76, 78, 79, 80, 82, 83, 85, 86, 87, 90, 92, 93, 95, 96, 97, 98]\n",
        "common_features = np.intersect1d(selcetk,rfe)\n",
        "print(common_features)\n"
      ],
      "metadata": {
        "id": "ORlHT1d6qC74"
      },
      "execution_count": null,
      "outputs": []
    },
    {
      "cell_type": "code",
      "source": [
        "print(len(common_features))"
      ],
      "metadata": {
        "id": "rgyHYg5ltx9j"
      },
      "execution_count": null,
      "outputs": []
    },
    {
      "cell_type": "code",
      "source": [
        "x_f = xdf_null.iloc[:,[0,  2,  3,  4,  6,  9, 10, 11, 12, 13, 14 ,17, 21, 24, 26, 28, 29, 32, 33, 35, 40, 41, 45, 46,\n",
        " 49, 50, 52, 54, 55, 57, 59, 62, 64, 67, 69, 71, 72, 78, 79, 80, 82, 83, 87, 90, 92, 93, 96, 98,100]]\n",
        "x_f"
      ],
      "metadata": {
        "id": "b9LRnnult-TD"
      },
      "execution_count": null,
      "outputs": []
    },
    {
      "cell_type": "code",
      "source": [
        "cor = x_f.corrwith(y).sort_values(ascending=False)"
      ],
      "metadata": {
        "id": "UhiuBqKr5hsU"
      },
      "execution_count": null,
      "outputs": []
    },
    {
      "cell_type": "code",
      "source": [
        "type(cor)"
      ],
      "metadata": {
        "id": "HUASKPxE5g_b"
      },
      "execution_count": null,
      "outputs": []
    },
    {
      "cell_type": "code",
      "source": [
        "cor.plot()"
      ],
      "metadata": {
        "id": "AsHM88FW7iBZ"
      },
      "execution_count": null,
      "outputs": []
    },
    {
      "cell_type": "code",
      "source": [
        "x_f.describe()"
      ],
      "metadata": {
        "id": "f2he59mSLGOs"
      },
      "execution_count": null,
      "outputs": []
    },
    {
      "cell_type": "markdown",
      "source": [
        "We have a large number of duplicates that make bias, Upon printing the duplicate values; we see that we have 93% duplicates "
      ],
      "metadata": {
        "id": "WgItlsJdz4Pc"
      }
    },
    {
      "cell_type": "code",
      "source": [
        "x_f.duplicated().sum()/len(x_f) * 100"
      ],
      "metadata": {
        "id": "TZIwax20rT2i"
      },
      "execution_count": null,
      "outputs": []
    },
    {
      "cell_type": "markdown",
      "source": [],
      "metadata": {
        "id": "4_rxOVir2o-N"
      }
    },
    {
      "cell_type": "markdown",
      "source": [
        "We drop the duplicates and further proceed to feature extraction"
      ],
      "metadata": {
        "id": "e11qZMix2t5u"
      }
    },
    {
      "cell_type": "code",
      "source": [
        "#xdf_null = xdf.drop_duplicates()"
      ],
      "metadata": {
        "id": "bwy5NEKs4A8h"
      },
      "execution_count": null,
      "outputs": []
    },
    {
      "cell_type": "code",
      "source": [
        "#xdf_null"
      ],
      "metadata": {
        "id": "t0nVWPkxmiNE"
      },
      "execution_count": null,
      "outputs": []
    },
    {
      "cell_type": "code",
      "source": [
        "for i in x_f.columns:\n",
        "  xdf_null[i].plot(kind='kde')\n",
        "  plt.title(\"Density plot of \"+ str(i) +\" with skewness \"+ str(x_f[i].skew(axis=0)))\n",
        "  plt.show()\n",
        "  plt.xlabel(i)\n",
        "  print('\\n')"
      ],
      "metadata": {
        "id": "-gydhF8w2nU1"
      },
      "execution_count": null,
      "outputs": []
    },
    {
      "cell_type": "code",
      "source": [
        "x_f.var()"
      ],
      "metadata": {
        "id": "7dfaIZUwznks"
      },
      "execution_count": null,
      "outputs": []
    },
    {
      "cell_type": "code",
      "source": [
        "x_f"
      ],
      "metadata": {
        "id": "nGGpSw4qsr3b"
      },
      "execution_count": null,
      "outputs": []
    },
    {
      "cell_type": "code",
      "source": [
        "new_x=pd.concat([x_f,y],axis=1)"
      ],
      "metadata": {
        "id": "wc57d5EWVk2r"
      },
      "execution_count": null,
      "outputs": []
    },
    {
      "cell_type": "code",
      "source": [
        "new_x"
      ],
      "metadata": {
        "id": "-bFWS9_HyILt"
      },
      "execution_count": null,
      "outputs": []
    },
    {
      "cell_type": "code",
      "source": [
        "import seaborn as sns\n",
        "cormat = new_x.corr() \n",
        "plt.figure(figsize=(15,15)) \n",
        "sns.heatmap(cormat, square=True, annot=True, linewidths=0.5) \n",
        "plt.title(\"Correlation matrix among variables\") \n",
        "plt.show()"
      ],
      "metadata": {
        "id": "IhaKwDsQLGMF"
      },
      "execution_count": null,
      "outputs": []
    },
    {
      "cell_type": "markdown",
      "metadata": {
        "id": "gMh5hYqlhTDW"
      },
      "source": [
        "## Defining the baseline"
      ]
    },
    {
      "cell_type": "markdown",
      "source": [
        "Previously:"
      ],
      "metadata": {
        "id": "6zEX952eLykn"
      }
    },
    {
      "cell_type": "code",
      "source": [
        "({'Random Forest': 0.9590643274853801,\n",
        "  'Logistic Regression': 0.8853801169590644,\n",
        "  'XGBOOST': 0.9340350877192982},\n",
        " {'Random Forest': 0.9597978405697221,\n",
        "  'Logistic Regression': 0.8889392565729828,\n",
        "  'XGBOOST': 0.9361702127659575})"
      ],
      "metadata": {
        "id": "vqOuEwbALc7E"
      },
      "execution_count": null,
      "outputs": []
    },
    {
      "cell_type": "markdown",
      "metadata": {
        "id": "zzxSB7H1kb3y"
      },
      "source": [
        "*  We should decide which baseline are we going to use. We can either use the rgf, random forest or the naive bayes classifier\n",
        "*  define metrics\n",
        "*  use models that are ensemble in the core\n",
        "*  combine different models using votigclassifiers\n",
        "*  the metric plots\n",
        "*  Comparisons"
      ]
    },
    {
      "cell_type": "markdown",
      "source": [
        "Use autoencoders of different shapes for feature engineering \n",
        "correlation\n",
        "cross validation"
      ],
      "metadata": {
        "id": "yriiXftU3dN_"
      }
    },
    {
      "cell_type": "markdown",
      "source": [],
      "metadata": {
        "id": "sMOO3900EzU2"
      }
    },
    {
      "cell_type": "code",
      "execution_count": null,
      "metadata": {
        "id": "12hNDfo8izui",
        "colab": {
          "base_uri": "https://localhost:8080/"
        },
        "outputId": "d1755bf4-1beb-46b9-fc88-f35ce3d902af"
      },
      "outputs": [
        {
          "output_type": "stream",
          "name": "stdout",
          "text": [
            "Looking in indexes: https://pypi.org/simple, https://us-python.pkg.dev/colab-wheels/public/simple/\n",
            "Collecting rgf_python\n",
            "  Downloading rgf_python-3.12.0-py3-none-manylinux1_x86_64.whl (757 kB)\n",
            "\u001b[K     |████████████████████████████████| 757 kB 29.2 MB/s \n",
            "\u001b[?25hRequirement already satisfied: scikit-learn>=0.18 in /usr/local/lib/python3.7/dist-packages (from rgf_python) (1.0.2)\n",
            "Requirement already satisfied: joblib in /usr/local/lib/python3.7/dist-packages (from rgf_python) (1.2.0)\n",
            "Requirement already satisfied: scipy>=1.1.0 in /usr/local/lib/python3.7/dist-packages (from scikit-learn>=0.18->rgf_python) (1.7.3)\n",
            "Requirement already satisfied: threadpoolctl>=2.0.0 in /usr/local/lib/python3.7/dist-packages (from scikit-learn>=0.18->rgf_python) (3.1.0)\n",
            "Requirement already satisfied: numpy>=1.14.6 in /usr/local/lib/python3.7/dist-packages (from scikit-learn>=0.18->rgf_python) (1.21.6)\n",
            "Installing collected packages: rgf-python\n",
            "Successfully installed rgf-python-3.12.0\n"
          ]
        }
      ],
      "source": [
        "!pip install rgf_python"
      ]
    },
    {
      "cell_type": "markdown",
      "source": [
        "##Random Forest"
      ],
      "metadata": {
        "id": "_q09S94GzXHL"
      }
    },
    {
      "cell_type": "code",
      "execution_count": null,
      "metadata": {
        "id": "5G2TjbAtD9bW",
        "colab": {
          "base_uri": "https://localhost:8080/"
        },
        "outputId": "d03f932a-733b-4fba-ac6b-a66dfa3d5892"
      },
      "outputs": [
        {
          "output_type": "execute_result",
          "data": {
            "text/plain": [
              "RandomForestClassifier(max_depth=2, random_state=0)"
            ]
          },
          "metadata": {},
          "execution_count": 98
        }
      ],
      "source": [
        "clf = RandomForestClassifier(max_depth=2, random_state=0)\n",
        "clf.fit(X_train, y_train)"
      ]
    },
    {
      "cell_type": "code",
      "execution_count": null,
      "metadata": {
        "id": "I1Li6fCLzOZp"
      },
      "outputs": [],
      "source": [
        "y_pred=clf.predict(X_dev)"
      ]
    },
    {
      "cell_type": "code",
      "execution_count": null,
      "metadata": {
        "id": "COdYE4blzOWW",
        "colab": {
          "base_uri": "https://localhost:8080/"
        },
        "outputId": "768fb8e4-e1cd-448b-e079-59123e2ec788"
      },
      "outputs": [
        {
          "output_type": "stream",
          "name": "stdout",
          "text": [
            "Accuracy: 0.8153102935711631\n"
          ]
        }
      ],
      "source": [
        "#Import scikit-learn metrics module for accuracy calculation\n",
        "from sklearn import metrics\n",
        "# Model Accuracy, how often is the classifier correct?\n",
        "print(\"Accuracy:\",metrics.accuracy_score(y_dev, y_pred))"
      ]
    },
    {
      "cell_type": "code",
      "execution_count": null,
      "metadata": {
        "id": "SW-mhJ_S0OTr"
      },
      "outputs": [],
      "source": [
        "import numpy as np\n",
        "import pandas as pd\n",
        "import matplotlib.pyplot as plt\n",
        "import seaborn as sns\n",
        "\n",
        "from sklearn.model_selection import train_test_split\n",
        "from sklearn.ensemble import RandomForestClassifier\n",
        "from sklearn.metrics import accuracy_score, confusion_matrix, classification_report"
      ]
    },
    {
      "cell_type": "code",
      "execution_count": null,
      "metadata": {
        "id": "THq3bU-ZzOTq",
        "colab": {
          "base_uri": "https://localhost:8080/"
        },
        "outputId": "f87b2cf6-718f-4bf0-de53-894767cdff6a"
      },
      "outputs": [
        {
          "output_type": "execute_result",
          "data": {
            "text/plain": [
              "array([[ 105,  474],\n",
              "       [  23, 2089]])"
            ]
          },
          "metadata": {},
          "execution_count": 102
        }
      ],
      "source": [
        "confusion_matrix(y_dev, y_pred)"
      ]
    },
    {
      "cell_type": "code",
      "execution_count": null,
      "metadata": {
        "id": "QqbDyTq-HgJ2",
        "colab": {
          "base_uri": "https://localhost:8080/"
        },
        "outputId": "5f294734-b078-4943-cf29-1fcd8402d5c5"
      },
      "outputs": [
        {
          "output_type": "stream",
          "name": "stdout",
          "text": [
            "              precision    recall  f1-score   support\n",
            "\n",
            "         1.0       0.82      0.18      0.30       579\n",
            "         2.0       0.82      0.99      0.89      2112\n",
            "\n",
            "    accuracy                           0.82      2691\n",
            "   macro avg       0.82      0.59      0.60      2691\n",
            "weighted avg       0.82      0.82      0.77      2691\n",
            "\n"
          ]
        }
      ],
      "source": [
        "print(classification_report(y_dev, y_pred))"
      ]
    },
    {
      "cell_type": "markdown",
      "metadata": {
        "id": "tti8bSKol5Cw"
      },
      "source": [
        "##iForest"
      ]
    },
    {
      "cell_type": "code",
      "execution_count": null,
      "metadata": {
        "id": "bc42fRgraJTt"
      },
      "outputs": [],
      "source": [
        "from pyod.models.iforest import IForest"
      ]
    },
    {
      "cell_type": "code",
      "execution_count": null,
      "metadata": {
        "id": "_doSSiVVl58K",
        "colab": {
          "base_uri": "https://localhost:8080/"
        },
        "outputId": "801ebbc3-c23e-4658-ec6a-44dd8f0cf0e5"
      },
      "outputs": [
        {
          "output_type": "stream",
          "name": "stderr",
          "text": [
            "/usr/local/lib/python3.7/dist-packages/pyod/models/base.py:411: UserWarning: y should not be presented in unsupervised learning.\n",
            "  \"y should not be presented in unsupervised learning.\")\n"
          ]
        },
        {
          "output_type": "execute_result",
          "data": {
            "text/plain": [
              "IForest(behaviour='old', bootstrap=False, contamination=0.1, max_features=1.0,\n",
              "    max_samples='auto', n_estimators=100, n_jobs=1, random_state=None,\n",
              "    verbose=0)"
            ]
          },
          "metadata": {},
          "execution_count": 105
        }
      ],
      "source": [
        "clf = IForest()\n",
        "clf.fit(X_train, y_train)"
      ]
    },
    {
      "cell_type": "code",
      "execution_count": null,
      "metadata": {
        "id": "AUQC0Wmb0pwq",
        "colab": {
          "base_uri": "https://localhost:8080/"
        },
        "outputId": "359b4de3-a418-418e-d30f-8840a12db92a"
      },
      "outputs": [
        {
          "output_type": "stream",
          "name": "stdout",
          "text": [
            "Accuracy: 0.016350798959494612\n"
          ]
        }
      ],
      "source": [
        "y_pred1=clf.predict(X_dev)\n",
        "print(\"Accuracy:\",metrics.accuracy_score(y_dev, y_pred1))"
      ]
    },
    {
      "cell_type": "code",
      "execution_count": null,
      "metadata": {
        "id": "mivtAwLx0y5r",
        "colab": {
          "base_uri": "https://localhost:8080/"
        },
        "outputId": "3df43172-6789-4433-f072-90542f59dfa7"
      },
      "outputs": [
        {
          "output_type": "stream",
          "name": "stdout",
          "text": [
            "              precision    recall  f1-score   support\n",
            "\n",
            "         1.0       0.82      0.18      0.30       579\n",
            "         2.0       0.82      0.99      0.89      2112\n",
            "\n",
            "    accuracy                           0.82      2691\n",
            "   macro avg       0.82      0.59      0.60      2691\n",
            "weighted avg       0.82      0.82      0.77      2691\n",
            "\n"
          ]
        }
      ],
      "source": [
        "print(classification_report(y_dev, y_pred))"
      ]
    },
    {
      "cell_type": "markdown",
      "source": [
        "Geometric mean, f1 score"
      ],
      "metadata": {
        "id": "F2jRjN7T4WOO"
      }
    },
    {
      "cell_type": "markdown",
      "source": [
        "##RGF"
      ],
      "metadata": {
        "id": "UBfovBQlzeSr"
      }
    },
    {
      "cell_type": "code",
      "execution_count": null,
      "metadata": {
        "id": "gUVefgBijJxd"
      },
      "outputs": [],
      "source": [
        "from rgf.sklearn import RGFClassifier"
      ]
    },
    {
      "cell_type": "code",
      "execution_count": null,
      "metadata": {
        "id": "yYV_4zFXjJt0"
      },
      "outputs": [],
      "source": [
        "rgf = RGFClassifier(max_leaf=400,\n",
        "                    algorithm=\"RGF_Sib\",\n",
        "                    test_interval=100,\n",
        "                    verbose=True)"
      ]
    },
    {
      "cell_type": "code",
      "execution_count": null,
      "metadata": {
        "id": "_F03iGX1jJq2",
        "colab": {
          "base_uri": "https://localhost:8080/"
        },
        "outputId": "f7f2d0cc-4fa4-4b51-b27d-5f7de6eae07a"
      },
      "outputs": [
        {
          "output_type": "stream",
          "name": "stdout",
          "text": [
            "n_jobs = -1, but RGFClassifier uses one CPU because classes_ is 2\n",
            "\"train\": \n",
            "   algorithm=RGF_Sib\n",
            "   train_x_fn=/tmp/rgf/f1e3d4b7-7ac4-4fcd-993e-a1ed29ea84491.train.data.x\n",
            "   train_y_fn=/tmp/rgf/f1e3d4b7-7ac4-4fcd-993e-a1ed29ea84491.train.data.y\n",
            "   Log:ON\n",
            "   model_fn_prefix=/tmp/rgf/f1e3d4b7-7ac4-4fcd-993e-a1ed29ea84491.model\n",
            "--------------------\n",
            "Sun Nov 27 11:13:26 2022: Reading training data ... \n",
            "Sun Nov 27 11:13:26 2022: Start ... #train=5461\n",
            "--------------------\n",
            "Forest-level: \n",
            "   loss=Log\n",
            "   max_leaf_forest=400\n",
            "   max_tree=200\n",
            "   opt_interval=100\n",
            "   test_interval=100\n",
            "   num_tree_search=1\n",
            "   Verbose:ON\n",
            "   memory_policy=Generous\n",
            "Turning on Force_to_refresh_all\n",
            "-------------\n",
            "Training data: 49x5461, nonzero_ratio=0.9999; managed as dense data.\n",
            "-------------\n",
            "Optimization: \n",
            "   loss=Log\n",
            "   num_iteration_opt=5\n",
            "   reg_L2=0.1\n",
            "   opt_stepsize=0.5\n",
            "   max_delta=1\n",
            "Tree-level: min_pop=10\n",
            "Node split: reg_L2=0.1\n",
            "--------------------\n",
            "Sun Nov 27 11:13:27 2022: Calling optimizer with 23 trees and 100 leaves\n",
            "Sun Nov 27 11:13:27 2022: Writing model: seq#=1\n",
            "Sun Nov 27 11:13:28 2022: Calling optimizer with 39 trees and 200 leaves\n",
            "Sun Nov 27 11:13:28 2022: Writing model: seq#=2\n",
            "Sun Nov 27 11:13:29 2022: Calling optimizer with 53 trees and 300 leaves\n",
            "Sun Nov 27 11:13:29 2022: Writing model: seq#=3\n",
            "Sun Nov 27 11:13:31 2022: AzRgforest: #leaf reached max\n",
            "Sun Nov 27 11:13:31 2022: Calling optimizer with 62 trees and 400 leaves\n",
            "Sun Nov 27 11:13:31 2022: Writing model: seq#=4\n",
            "\n",
            "Generated 4 model file(s): \n",
            "/tmp/rgf/f1e3d4b7-7ac4-4fcd-993e-a1ed29ea84491.model-01\n",
            "/tmp/rgf/f1e3d4b7-7ac4-4fcd-993e-a1ed29ea84491.model-02\n",
            "/tmp/rgf/f1e3d4b7-7ac4-4fcd-993e-a1ed29ea84491.model-03\n",
            "/tmp/rgf/f1e3d4b7-7ac4-4fcd-993e-a1ed29ea84491.model-04\n",
            "\n",
            "Sun Nov 27 11:13:31 2022: Done ... \n",
            "elapsed: 4.7153\n",
            "\n"
          ]
        },
        {
          "output_type": "execute_result",
          "data": {
            "text/plain": [
              "RGFClassifier(algorithm='RGF_Sib', max_leaf=400, verbose=True)"
            ]
          },
          "metadata": {},
          "execution_count": 110
        }
      ],
      "source": [
        "rgf.fit(X_train, y_train)"
      ]
    },
    {
      "cell_type": "code",
      "execution_count": null,
      "metadata": {
        "id": "oAk1bIfg1j-1",
        "colab": {
          "base_uri": "https://localhost:8080/"
        },
        "outputId": "976d13b2-6db8-47c1-978e-78a4f7fe3b82"
      },
      "outputs": [
        {
          "output_type": "stream",
          "name": "stdout",
          "text": [
            "\"predict\": \n",
            "   model_fn=/tmp/rgf/f1e3d4b7-7ac4-4fcd-993e-a1ed29ea84491.model-04\n",
            "   test_x_fn=/tmp/rgf/f1e3d4b7-7ac4-4fcd-993e-a1ed29ea84491.test.data.x\n",
            "   prediction_fn=/tmp/rgf/f1e3d4b7-7ac4-4fcd-993e-a1ed29ea84491.predictions.txt\n",
            "   Log:ON\n",
            "--------------------\n",
            "Sun Nov 27 11:13:31 2022: Reading test data ... \n",
            "Sun Nov 27 11:13:31 2022: Predicting ... \n",
            "elapsed: 0.008834\n",
            "/tmp/rgf/f1e3d4b7-7ac4-4fcd-993e-a1ed29ea84491.predictions.txt: /tmp/rgf/f1e3d4b7-7ac4-4fcd-993e-a1ed29ea84491.model-04,#leaf=400,#tree=62\n",
            "Sun Nov 27 11:13:31 2022: Done ... \n",
            "\n",
            "Accuracy: 0.9327387588257153\n"
          ]
        }
      ],
      "source": [
        "y_pred2=rgf.predict(X_dev)\n",
        "print(\"Accuracy:\",metrics.accuracy_score(y_dev, y_pred2))"
      ]
    },
    {
      "cell_type": "code",
      "execution_count": null,
      "metadata": {
        "id": "SBML1F8m1wFq",
        "colab": {
          "base_uri": "https://localhost:8080/"
        },
        "outputId": "3f790dd5-5e2b-4cde-d98f-b7151c17377f"
      },
      "outputs": [
        {
          "output_type": "stream",
          "name": "stdout",
          "text": [
            "              precision    recall  f1-score   support\n",
            "\n",
            "         1.0       0.86      0.82      0.84       579\n",
            "         2.0       0.95      0.96      0.96      2112\n",
            "\n",
            "    accuracy                           0.93      2691\n",
            "   macro avg       0.91      0.89      0.90      2691\n",
            "weighted avg       0.93      0.93      0.93      2691\n",
            "\n"
          ]
        }
      ],
      "source": [
        "print(classification_report(y_dev, y_pred2))"
      ]
    },
    {
      "cell_type": "markdown",
      "source": [
        "##Scaling the data"
      ],
      "metadata": {
        "id": "0dZVh5cmzj5l"
      }
    },
    {
      "cell_type": "code",
      "execution_count": null,
      "metadata": {
        "id": "PW7mhpBc13Qa"
      },
      "outputs": [],
      "source": [
        "from sklearn.preprocessing import StandardScaler    \n",
        "st_x= StandardScaler()    \n",
        "x_train= st_x.fit_transform(X_train)    \n",
        "x_test= st_x.transform(X_dev)"
      ]
    },
    {
      "cell_type": "markdown",
      "source": [
        "##SVM"
      ],
      "metadata": {
        "id": "WkX2JFAIzpVC"
      }
    },
    {
      "cell_type": "code",
      "execution_count": null,
      "metadata": {
        "id": "BO5QLKBl4__k",
        "colab": {
          "base_uri": "https://localhost:8080/"
        },
        "outputId": "8c776b63-7c48-4427-f322-d021f9f5ac48"
      },
      "outputs": [
        {
          "output_type": "execute_result",
          "data": {
            "text/plain": [
              "SVC(kernel='linear', random_state=0)"
            ]
          },
          "metadata": {},
          "execution_count": 114
        }
      ],
      "source": [
        "from sklearn.svm import SVC # \"Support vector classifier\"  \n",
        "classifier = SVC(kernel='linear', random_state=0)  \n",
        "classifier.fit(x_train, y_train) "
      ]
    },
    {
      "cell_type": "code",
      "execution_count": null,
      "metadata": {
        "id": "OxlY76DK5P9i"
      },
      "outputs": [],
      "source": [
        "y_pred= classifier.predict(x_test)  "
      ]
    },
    {
      "cell_type": "code",
      "execution_count": null,
      "metadata": {
        "id": "pH87tSOA5bJz",
        "colab": {
          "base_uri": "https://localhost:8080/"
        },
        "outputId": "9ec8cc67-bf07-4b5a-b8e6-c31d638f1780"
      },
      "outputs": [
        {
          "output_type": "stream",
          "name": "stdout",
          "text": [
            "Accuracy: 0.8851727982162765\n"
          ]
        }
      ],
      "source": [
        "print(\"Accuracy:\",metrics.accuracy_score(y_dev, y_pred))"
      ]
    },
    {
      "cell_type": "code",
      "execution_count": null,
      "metadata": {
        "id": "Sfu9FiOQ5mtE",
        "colab": {
          "base_uri": "https://localhost:8080/"
        },
        "outputId": "c74744b0-47d5-4d87-b274-169f058c8df9"
      },
      "outputs": [
        {
          "output_type": "stream",
          "name": "stdout",
          "text": [
            "              precision    recall  f1-score   support\n",
            "\n",
            "         1.0       0.73      0.74      0.73       579\n",
            "         2.0       0.93      0.93      0.93      2112\n",
            "\n",
            "    accuracy                           0.89      2691\n",
            "   macro avg       0.83      0.83      0.83      2691\n",
            "weighted avg       0.89      0.89      0.89      2691\n",
            "\n"
          ]
        }
      ],
      "source": [
        "print(classification_report(y_dev, y_pred))"
      ]
    },
    {
      "cell_type": "code",
      "source": [],
      "metadata": {
        "id": "yQnTyF2cyvGV"
      },
      "execution_count": null,
      "outputs": []
    }
  ],
  "metadata": {
    "colab": {
      "provenance": [],
      "collapsed_sections": [
        "7x5a1y7E9org",
        "WT9MuOSo9vDS",
        "RPENC8vE_CLm",
        "Sr_unzA4_ALx",
        "_q09S94GzXHL",
        "tti8bSKol5Cw",
        "UBfovBQlzeSr",
        "0dZVh5cmzj5l",
        "WkX2JFAIzpVC"
      ]
    },
    "gpuClass": "standard",
    "kernelspec": {
      "display_name": "Python 3",
      "name": "python3"
    },
    "language_info": {
      "name": "python"
    },
    "accelerator": "GPU"
  },
  "nbformat": 4,
  "nbformat_minor": 0
}